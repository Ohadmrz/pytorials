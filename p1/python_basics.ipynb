{
  "nbformat": 4,
  "nbformat_minor": 0,
  "metadata": {
    "colab": {
      "provenance": [],
      "collapsed_sections": [
        "vOQ9VKRtRF3O",
        "252UIgKCRY8a",
        "zdsGPnp8Lv6g",
        "9GQbXGi9EDic",
        "EPCkHlUuS7kr",
        "6kSlhd--9bzR"
      ],
      "toc_visible": true
    },
    "kernelspec": {
      "name": "python3",
      "display_name": "Python 3"
    },
    "language_info": {
      "name": "python"
    }
  },
  "cells": [
    {
      "cell_type": "markdown",
      "source": [
        "## Intro - a couple of commands to start with"
      ],
      "metadata": {
        "id": "nYusG-S-Y3Jh"
      }
    },
    {
      "cell_type": "code",
      "source": [
        "print(\"Hello world\")"
      ],
      "metadata": {
        "id": "0FqvDnfJY9fK",
        "colab": {
          "base_uri": "https://localhost:8080/"
        },
        "outputId": "067f7030-0846-420d-fae9-46ac39287bbc"
      },
      "execution_count": null,
      "outputs": [
        {
          "output_type": "stream",
          "name": "stdout",
          "text": [
            "Hello world\n"
          ]
        }
      ]
    },
    {
      "cell_type": "code",
      "source": [
        "print(5+4)"
      ],
      "metadata": {
        "colab": {
          "base_uri": "https://localhost:8080/"
        },
        "id": "Xo0CeD-S4Tau",
        "outputId": "81a78c4a-d0b4-4e9d-eb4a-b3b47abf60eb"
      },
      "execution_count": null,
      "outputs": [
        {
          "output_type": "stream",
          "name": "stdout",
          "text": [
            "9\n"
          ]
        }
      ]
    },
    {
      "cell_type": "code",
      "source": [
        "5*4"
      ],
      "metadata": {
        "colab": {
          "base_uri": "https://localhost:8080/"
        },
        "id": "jO25S1Re6ukQ",
        "outputId": "12a70661-66a3-4e4f-8166-91b18751ee96"
      },
      "execution_count": null,
      "outputs": [
        {
          "output_type": "execute_result",
          "data": {
            "text/plain": [
              "20"
            ]
          },
          "metadata": {},
          "execution_count": 3
        }
      ]
    },
    {
      "cell_type": "code",
      "source": [
        "print(\"Hi\")\n",
        "print(2.3 * 3.4)\n",
        "print(\"gggg\")"
      ],
      "metadata": {
        "colab": {
          "base_uri": "https://localhost:8080/"
        },
        "id": "h_ADXaSM6xFd",
        "outputId": "e203a6b5-d961-4c70-b268-8ccbf7240453"
      },
      "execution_count": null,
      "outputs": [
        {
          "output_type": "stream",
          "name": "stdout",
          "text": [
            "Hi\n",
            "7.819999999999999\n",
            "gggg\n"
          ]
        }
      ]
    },
    {
      "cell_type": "code",
      "source": [
        "input()"
      ],
      "metadata": {
        "colab": {
          "base_uri": "https://localhost:8080/",
          "height": 53
        },
        "id": "pH7gWL-17Ojl",
        "outputId": "2a246b22-1a1b-47d1-bc65-7d46b520758d"
      },
      "execution_count": null,
      "outputs": [
        {
          "name": "stdout",
          "output_type": "stream",
          "text": [
            "Valeria\n"
          ]
        },
        {
          "output_type": "execute_result",
          "data": {
            "text/plain": [
              "'Valeria'"
            ],
            "application/vnd.google.colaboratory.intrinsic+json": {
              "type": "string"
            }
          },
          "metadata": {},
          "execution_count": 6
        }
      ]
    },
    {
      "cell_type": "code",
      "source": [
        "name = input()"
      ],
      "metadata": {
        "colab": {
          "base_uri": "https://localhost:8080/"
        },
        "id": "aolv8i_-7b_C",
        "outputId": "3aaadd39-e576-4079-c8bb-8abb4edbf38a"
      },
      "execution_count": null,
      "outputs": [
        {
          "name": "stdout",
          "output_type": "stream",
          "text": [
            "Valeria\n"
          ]
        }
      ]
    },
    {
      "cell_type": "code",
      "source": [
        "print(\"name\")\n",
        "print(name)"
      ],
      "metadata": {
        "colab": {
          "base_uri": "https://localhost:8080/"
        },
        "id": "xLzcQgqH7pHJ",
        "outputId": "e81a6558-ec0d-4eff-a3ed-b150fa67c911"
      },
      "execution_count": null,
      "outputs": [
        {
          "output_type": "stream",
          "name": "stdout",
          "text": [
            "name\n",
            "Valeria\n"
          ]
        }
      ]
    },
    {
      "cell_type": "code",
      "source": [
        "print(ttt)"
      ],
      "metadata": {
        "colab": {
          "base_uri": "https://localhost:8080/",
          "height": 168
        },
        "id": "1sA-bnC68Eso",
        "outputId": "f686ff9a-c14e-4db6-d4d1-e45106af15d8"
      },
      "execution_count": null,
      "outputs": [
        {
          "output_type": "error",
          "ename": "NameError",
          "evalue": "ignored",
          "traceback": [
            "\u001b[0;31m---------------------------------------------------------------------------\u001b[0m",
            "\u001b[0;31mNameError\u001b[0m                                 Traceback (most recent call last)",
            "\u001b[0;32m<ipython-input-9-c3b0a836cd07>\u001b[0m in \u001b[0;36m<module>\u001b[0;34m()\u001b[0m\n\u001b[0;32m----> 1\u001b[0;31m \u001b[0mprint\u001b[0m\u001b[0;34m(\u001b[0m\u001b[0mttt\u001b[0m\u001b[0;34m)\u001b[0m\u001b[0;34m\u001b[0m\u001b[0;34m\u001b[0m\u001b[0m\n\u001b[0m",
            "\u001b[0;31mNameError\u001b[0m: name 'ttt' is not defined"
          ]
        }
      ]
    },
    {
      "cell_type": "markdown",
      "source": [
        "## Numeric Types\n",
        "\n",
        "https://docs.python.org/3/library/stdtypes.html"
      ],
      "metadata": {
        "id": "H6ZXb1pQ6RJb"
      }
    },
    {
      "cell_type": "code",
      "execution_count": null,
      "metadata": {
        "id": "ICTNM0iB5nXj"
      },
      "outputs": [],
      "source": [
        "# int, float\n",
        "num = 5"
      ]
    },
    {
      "cell_type": "code",
      "source": [
        "print(num)"
      ],
      "metadata": {
        "id": "PzQy9YnOVGda"
      },
      "execution_count": null,
      "outputs": []
    },
    {
      "cell_type": "code",
      "source": [
        "type(num)"
      ],
      "metadata": {
        "id": "1R0IlE79VKzc",
        "colab": {
          "base_uri": "https://localhost:8080/"
        },
        "outputId": "657708f8-f92d-452e-e6c1-c53c51e8fff9"
      },
      "execution_count": null,
      "outputs": [
        {
          "output_type": "execute_result",
          "data": {
            "text/plain": [
              "int"
            ]
          },
          "metadata": {},
          "execution_count": 11
        }
      ]
    },
    {
      "cell_type": "code",
      "source": [
        "num1 = 4.56\n",
        "type(num1)"
      ],
      "metadata": {
        "id": "3kbk1o0GVQOl",
        "colab": {
          "base_uri": "https://localhost:8080/"
        },
        "outputId": "6660611a-8fab-44a5-8af8-b2c17ab6e61e"
      },
      "execution_count": null,
      "outputs": [
        {
          "output_type": "execute_result",
          "data": {
            "text/plain": [
              "float"
            ]
          },
          "metadata": {},
          "execution_count": 12
        }
      ]
    },
    {
      "cell_type": "code",
      "source": [
        "type(name)"
      ],
      "metadata": {
        "colab": {
          "base_uri": "https://localhost:8080/"
        },
        "id": "7vRn0YH68iTt",
        "outputId": "def007d1-48e7-4910-e3d1-700117da464c"
      },
      "execution_count": null,
      "outputs": [
        {
          "output_type": "execute_result",
          "data": {
            "text/plain": [
              "str"
            ]
          },
          "metadata": {},
          "execution_count": 13
        }
      ]
    },
    {
      "cell_type": "markdown",
      "source": [
        "###Arithmetic operators: + - * /"
      ],
      "metadata": {
        "id": "WWv0e580cCrc"
      }
    },
    {
      "cell_type": "code",
      "source": [
        "# regular arithmetic operators: + - * /\n",
        "\n",
        "5 + 4\n",
        "\n",
        "num + num1\n",
        "\n",
        "nums_sum = num + num1"
      ],
      "metadata": {
        "id": "MpZvOkNYV5_X"
      },
      "execution_count": null,
      "outputs": []
    },
    {
      "cell_type": "code",
      "source": [
        "# other operators: // % ** \n",
        "\n",
        "5 // 2"
      ],
      "metadata": {
        "id": "gNQmJaYiXfck",
        "colab": {
          "base_uri": "https://localhost:8080/"
        },
        "outputId": "0f2e1e81-6cba-4352-fd66-c9ad5e36638b"
      },
      "execution_count": null,
      "outputs": [
        {
          "output_type": "execute_result",
          "data": {
            "text/plain": [
              "2"
            ]
          },
          "metadata": {},
          "execution_count": 16
        }
      ]
    },
    {
      "cell_type": "code",
      "source": [
        "5 % 2"
      ],
      "metadata": {
        "id": "-OMjsJwmXmUx",
        "colab": {
          "base_uri": "https://localhost:8080/"
        },
        "outputId": "7aaab3d4-acb4-428e-d12e-272328ec0467"
      },
      "execution_count": null,
      "outputs": [
        {
          "output_type": "execute_result",
          "data": {
            "text/plain": [
              "1"
            ]
          },
          "metadata": {},
          "execution_count": 17
        }
      ]
    },
    {
      "cell_type": "code",
      "source": [
        "divmod(5, 2)"
      ],
      "metadata": {
        "id": "IcJw1CgUXsF9",
        "colab": {
          "base_uri": "https://localhost:8080/"
        },
        "outputId": "1b0451be-faeb-468c-e6bf-b535bfb6959f"
      },
      "execution_count": null,
      "outputs": [
        {
          "output_type": "execute_result",
          "data": {
            "text/plain": [
              "(2, 1)"
            ]
          },
          "metadata": {},
          "execution_count": 18
        }
      ]
    },
    {
      "cell_type": "code",
      "source": [
        "5 ** 2"
      ],
      "metadata": {
        "id": "_Y-6XNjcX8cm",
        "colab": {
          "base_uri": "https://localhost:8080/"
        },
        "outputId": "41e2856d-9f27-4584-8034-6ef95b47bf75"
      },
      "execution_count": null,
      "outputs": [
        {
          "output_type": "execute_result",
          "data": {
            "text/plain": [
              "25"
            ]
          },
          "metadata": {},
          "execution_count": 19
        }
      ]
    },
    {
      "cell_type": "code",
      "source": [
        "5 ** 4"
      ],
      "metadata": {
        "colab": {
          "base_uri": "https://localhost:8080/"
        },
        "id": "uzsnszch9_-4",
        "outputId": "2aa3607f-0930-4bb7-eb5d-041204f1ec37"
      },
      "execution_count": null,
      "outputs": [
        {
          "output_type": "execute_result",
          "data": {
            "text/plain": [
              "625"
            ]
          },
          "metadata": {},
          "execution_count": 20
        }
      ]
    },
    {
      "cell_type": "code",
      "source": [
        "5.2 ** 3"
      ],
      "metadata": {
        "colab": {
          "base_uri": "https://localhost:8080/"
        },
        "id": "SydR4c9T-EUN",
        "outputId": "e54d767a-babb-4c18-89fa-fed0d9535ebe"
      },
      "execution_count": null,
      "outputs": [
        {
          "output_type": "execute_result",
          "data": {
            "text/plain": [
              "140.608"
            ]
          },
          "metadata": {},
          "execution_count": 21
        }
      ]
    },
    {
      "cell_type": "markdown",
      "source": [
        "### Built-in functions"
      ],
      "metadata": {
        "id": "PAEoHtqQcbbY"
      }
    },
    {
      "cell_type": "code",
      "source": [
        "\n",
        "# functions: abs() divmod() pow() round()"
      ],
      "metadata": {
        "id": "dVjnIHY5VDwh"
      },
      "execution_count": null,
      "outputs": []
    },
    {
      "cell_type": "code",
      "source": [
        "abs(-4.5)"
      ],
      "metadata": {
        "id": "iwxWWxiEYCvB",
        "colab": {
          "base_uri": "https://localhost:8080/"
        },
        "outputId": "daa4790f-469c-4414-9755-c91b16160177"
      },
      "execution_count": null,
      "outputs": [
        {
          "output_type": "execute_result",
          "data": {
            "text/plain": [
              "4.5"
            ]
          },
          "metadata": {},
          "execution_count": 22
        }
      ]
    },
    {
      "cell_type": "code",
      "source": [
        "pow(5, 2)"
      ],
      "metadata": {
        "id": "9AarfuIoYGud",
        "colab": {
          "base_uri": "https://localhost:8080/"
        },
        "outputId": "3c091b84-c958-4aa5-ad8f-5a112cbe73fb"
      },
      "execution_count": null,
      "outputs": [
        {
          "output_type": "execute_result",
          "data": {
            "text/plain": [
              "25"
            ]
          },
          "metadata": {},
          "execution_count": 23
        }
      ]
    },
    {
      "cell_type": "code",
      "source": [
        "round(3.456)"
      ],
      "metadata": {
        "id": "aOQ6l15TYLkV",
        "colab": {
          "base_uri": "https://localhost:8080/"
        },
        "outputId": "6d934e39-c180-4100-b888-f627f8742de8"
      },
      "execution_count": null,
      "outputs": [
        {
          "output_type": "execute_result",
          "data": {
            "text/plain": [
              "3"
            ]
          },
          "metadata": {},
          "execution_count": 24
        }
      ]
    },
    {
      "cell_type": "code",
      "source": [
        "round(3.456, 1)"
      ],
      "metadata": {
        "id": "UbSRL00zYQpX",
        "colab": {
          "base_uri": "https://localhost:8080/"
        },
        "outputId": "fb576b95-1fd5-4de1-8cd7-828ee77ad142"
      },
      "execution_count": null,
      "outputs": [
        {
          "output_type": "execute_result",
          "data": {
            "text/plain": [
              "3.5"
            ]
          },
          "metadata": {},
          "execution_count": 25
        }
      ]
    },
    {
      "cell_type": "markdown",
      "source": [
        "### Math module"
      ],
      "metadata": {
        "id": "YUqBD8GdcjQ9"
      }
    },
    {
      "cell_type": "code",
      "source": [
        "import math"
      ],
      "metadata": {
        "id": "HBnJceOIZAA8"
      },
      "execution_count": null,
      "outputs": []
    },
    {
      "cell_type": "code",
      "source": [
        "math.floor(4.89)"
      ],
      "metadata": {
        "id": "4S28VFtAZGIU",
        "colab": {
          "base_uri": "https://localhost:8080/"
        },
        "outputId": "75b6e86e-95d2-4385-f804-e8f3359e51df"
      },
      "execution_count": null,
      "outputs": [
        {
          "output_type": "execute_result",
          "data": {
            "text/plain": [
              "4"
            ]
          },
          "metadata": {},
          "execution_count": 27
        }
      ]
    },
    {
      "cell_type": "code",
      "source": [
        "math.factorial(6)"
      ],
      "metadata": {
        "colab": {
          "base_uri": "https://localhost:8080/"
        },
        "id": "6fzSpzbB_B5O",
        "outputId": "278c85f1-1586-47cc-b26c-4109ca5f17de"
      },
      "execution_count": null,
      "outputs": [
        {
          "output_type": "execute_result",
          "data": {
            "text/plain": [
              "720"
            ]
          },
          "metadata": {},
          "execution_count": 28
        }
      ]
    },
    {
      "cell_type": "markdown",
      "source": [
        "### Casting"
      ],
      "metadata": {
        "id": "g8j3XM9CcPat"
      }
    },
    {
      "cell_type": "code",
      "source": [
        "num1"
      ],
      "metadata": {
        "id": "pYhDpr-YYYZj",
        "colab": {
          "base_uri": "https://localhost:8080/"
        },
        "outputId": "eb3e5e01-a96d-47ff-bf54-ee07988e98b2"
      },
      "execution_count": null,
      "outputs": [
        {
          "output_type": "execute_result",
          "data": {
            "text/plain": [
              "4.56"
            ]
          },
          "metadata": {},
          "execution_count": 29
        }
      ]
    },
    {
      "cell_type": "code",
      "source": [
        "int(num1)"
      ],
      "metadata": {
        "colab": {
          "base_uri": "https://localhost:8080/"
        },
        "id": "ZRur3AYL_n_v",
        "outputId": "da2da3fc-2802-449f-a77f-0d983ffb0ced"
      },
      "execution_count": null,
      "outputs": [
        {
          "output_type": "execute_result",
          "data": {
            "text/plain": [
              "4"
            ]
          },
          "metadata": {},
          "execution_count": 30
        }
      ]
    },
    {
      "cell_type": "code",
      "source": [
        "num"
      ],
      "metadata": {
        "colab": {
          "base_uri": "https://localhost:8080/"
        },
        "id": "0EEZu9_0_to9",
        "outputId": "a27a831e-2bbe-4fa5-8e31-39cbeaa4c698"
      },
      "execution_count": null,
      "outputs": [
        {
          "output_type": "execute_result",
          "data": {
            "text/plain": [
              "5"
            ]
          },
          "metadata": {},
          "execution_count": 31
        }
      ]
    },
    {
      "cell_type": "code",
      "source": [
        "float(num)"
      ],
      "metadata": {
        "colab": {
          "base_uri": "https://localhost:8080/"
        },
        "id": "ZKmW3ukv_2Y9",
        "outputId": "330fea49-f4e9-4958-d759-28fb6083346e"
      },
      "execution_count": null,
      "outputs": [
        {
          "output_type": "execute_result",
          "data": {
            "text/plain": [
              "5.0"
            ]
          },
          "metadata": {},
          "execution_count": 32
        }
      ]
    },
    {
      "cell_type": "code",
      "source": [
        "num1_as_int = int(num1)"
      ],
      "metadata": {
        "id": "BV4-U3meZuLj"
      },
      "execution_count": null,
      "outputs": []
    },
    {
      "cell_type": "code",
      "source": [
        "print(num1_as_int)"
      ],
      "metadata": {
        "id": "hROPITCmZ8jd"
      },
      "execution_count": null,
      "outputs": []
    },
    {
      "cell_type": "code",
      "source": [
        "float(num)"
      ],
      "metadata": {
        "id": "KLIKqQ7wZ_dh"
      },
      "execution_count": null,
      "outputs": []
    },
    {
      "cell_type": "code",
      "source": [
        "# nice feature - use _ for big numbers"
      ],
      "metadata": {
        "id": "J53gxcru9A3C"
      },
      "execution_count": null,
      "outputs": []
    },
    {
      "cell_type": "code",
      "source": [
        "big_num = 100000000"
      ],
      "metadata": {
        "id": "vMmIi6d4AHob"
      },
      "execution_count": null,
      "outputs": []
    },
    {
      "cell_type": "code",
      "source": [
        "big_num = 100_000_000"
      ],
      "metadata": {
        "id": "hC5OZpCraFcs"
      },
      "execution_count": null,
      "outputs": []
    },
    {
      "cell_type": "code",
      "source": [
        "big_num"
      ],
      "metadata": {
        "id": "14nLPnEKaSKB",
        "colab": {
          "base_uri": "https://localhost:8080/"
        },
        "outputId": "a76b7de5-6993-4914-8dfe-666d24dcafbf"
      },
      "execution_count": null,
      "outputs": [
        {
          "output_type": "execute_result",
          "data": {
            "text/plain": [
              "100000000"
            ]
          },
          "metadata": {},
          "execution_count": 34
        }
      ]
    },
    {
      "cell_type": "markdown",
      "source": [
        "## String - basics\n",
        "\n",
        "Single quotes: 'allows embedded \"double\" quotes'\n",
        "\n",
        "Double quotes: \"allows embedded 'single' quotes\"\n",
        "\n",
        "Triple quoted: '''Three single quotes''', \"\"\"Three double quotes\"\"\""
      ],
      "metadata": {
        "id": "gPF4pftTc0X5"
      }
    },
    {
      "cell_type": "code",
      "source": [
        "# string as a sequence\n",
        "s = \"Hello World!\""
      ],
      "metadata": {
        "id": "CZr1_J1zc0X5"
      },
      "execution_count": null,
      "outputs": []
    },
    {
      "cell_type": "code",
      "source": [
        "s1 = 'Hello World!'"
      ],
      "metadata": {
        "id": "RXh3E7h5c0X6"
      },
      "execution_count": null,
      "outputs": []
    },
    {
      "cell_type": "code",
      "source": [
        "s2 = 'She said: \"Hello!\"'"
      ],
      "metadata": {
        "id": "j_ZBEsF3c0X6"
      },
      "execution_count": null,
      "outputs": []
    },
    {
      "cell_type": "code",
      "source": [
        "s3 = \"I said 'beautiful'\""
      ],
      "metadata": {
        "id": "WEPWbY79c0X6"
      },
      "execution_count": null,
      "outputs": []
    },
    {
      "cell_type": "code",
      "source": [
        "s4 = \"Hello\\nHi\""
      ],
      "metadata": {
        "id": "kZdUBPu2AssG"
      },
      "execution_count": null,
      "outputs": []
    },
    {
      "cell_type": "code",
      "source": [
        "print(s4)"
      ],
      "metadata": {
        "id": "vTkbKZDbc0X6",
        "colab": {
          "base_uri": "https://localhost:8080/"
        },
        "outputId": "fcb9024e-f7d3-41dc-ac58-f2e4931a7180"
      },
      "execution_count": null,
      "outputs": [
        {
          "output_type": "stream",
          "name": "stdout",
          "text": [
            "Hello\n",
            "Hi\n"
          ]
        }
      ]
    },
    {
      "cell_type": "code",
      "source": [
        "s5 = \"\"\"Hello\n",
        "Hi\n",
        "  Bla\n",
        "\"\"\""
      ],
      "metadata": {
        "id": "uJHMRPMOA9Is"
      },
      "execution_count": null,
      "outputs": []
    },
    {
      "cell_type": "code",
      "source": [
        "print(s5)"
      ],
      "metadata": {
        "colab": {
          "base_uri": "https://localhost:8080/"
        },
        "id": "iY0hZk6yBF9x",
        "outputId": "58728ceb-9931-4df8-c49f-5fffcdfc9c9f"
      },
      "execution_count": null,
      "outputs": [
        {
          "output_type": "stream",
          "name": "stdout",
          "text": [
            "Hello\n",
            "Hi\n",
            "  Bla\n",
            "\n"
          ]
        }
      ]
    },
    {
      "cell_type": "code",
      "source": [
        "print(\"Hi! MY name is Valeria\", s, s1, num)"
      ],
      "metadata": {
        "id": "T4APj4Xosbbv",
        "colab": {
          "base_uri": "https://localhost:8080/"
        },
        "outputId": "c05d523f-ed92-4125-b6a4-3d2a14f58395"
      },
      "execution_count": null,
      "outputs": [
        {
          "output_type": "stream",
          "name": "stdout",
          "text": [
            "Hi! MY name is Valeria Hello World! Hello World! 5\n"
          ]
        }
      ]
    },
    {
      "cell_type": "code",
      "source": [
        "# string formatting\n",
        "num = 3.455675678\n",
        "print('You wrote string:', s, \"and num:\", num)\n"
      ],
      "metadata": {
        "id": "Sed6WUsB3KIG",
        "colab": {
          "base_uri": "https://localhost:8080/"
        },
        "outputId": "83785224-fade-4f2e-f526-aea6ee8977ec"
      },
      "execution_count": null,
      "outputs": [
        {
          "output_type": "stream",
          "name": "stdout",
          "text": [
            "You wrote string: Hello World! and num: 3.455675678\n"
          ]
        }
      ]
    },
    {
      "cell_type": "code",
      "source": [
        "print(f\"You wrote string: {s} and num: {num}\")"
      ],
      "metadata": {
        "colab": {
          "base_uri": "https://localhost:8080/"
        },
        "id": "7vF7PRYnBtFl",
        "outputId": "b3c2d12c-be3f-4406-b4ee-8d25ce9736d7"
      },
      "execution_count": null,
      "outputs": [
        {
          "output_type": "stream",
          "name": "stdout",
          "text": [
            "You wrote string: Hello World! and num: 3.455675678\n"
          ]
        }
      ]
    },
    {
      "cell_type": "code",
      "source": [
        "print(\"4 + 5\")"
      ],
      "metadata": {
        "colab": {
          "base_uri": "https://localhost:8080/"
        },
        "id": "2ftDwFcTB8rk",
        "outputId": "d861ff95-47de-4f8a-d063-b001d6e9a4e1"
      },
      "execution_count": null,
      "outputs": [
        {
          "output_type": "stream",
          "name": "stdout",
          "text": [
            "4 + 5\n"
          ]
        }
      ]
    },
    {
      "cell_type": "code",
      "source": [
        "print(4 + 5)"
      ],
      "metadata": {
        "colab": {
          "base_uri": "https://localhost:8080/"
        },
        "id": "dQ-uBX64CPEG",
        "outputId": "c808b3c0-7298-44f0-bbf2-d05dacc2ffad"
      },
      "execution_count": null,
      "outputs": [
        {
          "output_type": "stream",
          "name": "stdout",
          "text": [
            "9\n"
          ]
        }
      ]
    },
    {
      "cell_type": "code",
      "source": [
        "print(f\"4+5\")"
      ],
      "metadata": {
        "colab": {
          "base_uri": "https://localhost:8080/"
        },
        "id": "_l_GpUR3CAs7",
        "outputId": "8f246c16-ce79-44ac-a65e-6831e01d5bdd"
      },
      "execution_count": null,
      "outputs": [
        {
          "output_type": "stream",
          "name": "stdout",
          "text": [
            "4+5\n"
          ]
        }
      ]
    },
    {
      "cell_type": "code",
      "source": [
        "print(f\"{4+5}\")"
      ],
      "metadata": {
        "colab": {
          "base_uri": "https://localhost:8080/"
        },
        "id": "hcajeJ7WCDtp",
        "outputId": "dd65fafb-1ad3-41b1-ec66-8fa333effb37"
      },
      "execution_count": null,
      "outputs": [
        {
          "output_type": "stream",
          "name": "stdout",
          "text": [
            "9\n"
          ]
        }
      ]
    },
    {
      "cell_type": "code",
      "source": [
        "print(f\"The result of 4+5 is {4+5}\")"
      ],
      "metadata": {
        "colab": {
          "base_uri": "https://localhost:8080/"
        },
        "id": "yIynF8kcCTv-",
        "outputId": "02659a3c-b590-47b7-ab35-63e4a8a2abab"
      },
      "execution_count": null,
      "outputs": [
        {
          "output_type": "stream",
          "name": "stdout",
          "text": [
            "The result of 4+5 is 9\n"
          ]
        }
      ]
    },
    {
      "cell_type": "code",
      "source": [
        "print(f\"My age is {num}\")"
      ],
      "metadata": {
        "colab": {
          "base_uri": "https://localhost:8080/"
        },
        "id": "H7fxlj8zCfP7",
        "outputId": "d54b7cbe-a644-4769-ae80-4eff9615b4df"
      },
      "execution_count": null,
      "outputs": [
        {
          "output_type": "stream",
          "name": "stdout",
          "text": [
            "My age is 3.455675678\n"
          ]
        }
      ]
    },
    {
      "cell_type": "code",
      "source": [
        "print(\"My age is\", num+4)"
      ],
      "metadata": {
        "colab": {
          "base_uri": "https://localhost:8080/"
        },
        "id": "yqrM4AJ4CjNi",
        "outputId": "ec866614-eb56-4b69-cfdc-32f4d8c9352f"
      },
      "execution_count": null,
      "outputs": [
        {
          "output_type": "stream",
          "name": "stdout",
          "text": [
            "My age is 7.455675678\n"
          ]
        }
      ]
    },
    {
      "cell_type": "code",
      "source": [
        "print(f\"You wrote string: {s} and num: {num:.2f}\")\n",
        "print(f\"You wrote string: {s} and num: {num:+.2f}\")"
      ],
      "metadata": {
        "colab": {
          "base_uri": "https://localhost:8080/"
        },
        "id": "H3oLqB27Blfq",
        "outputId": "b43fe65e-adfd-43d7-f408-5b14728f47a9"
      },
      "execution_count": null,
      "outputs": [
        {
          "output_type": "stream",
          "name": "stdout",
          "text": [
            "You wrote string: Hello World! and num: 3.46\n",
            "You wrote string: Hello World! and num: +3.46\n"
          ]
        }
      ]
    },
    {
      "cell_type": "markdown",
      "source": [
        "![image.png](data:image/png;base64,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)"
      ],
      "metadata": {
        "id": "i4I4Iqf25vGz"
      }
    },
    {
      "cell_type": "code",
      "source": [
        "# string methods\n",
        "len(s)"
      ],
      "metadata": {
        "id": "HWk7oGrI3NNf",
        "colab": {
          "base_uri": "https://localhost:8080/"
        },
        "outputId": "1703be6f-8ac7-411e-b736-e3a599bf20c0"
      },
      "execution_count": null,
      "outputs": [
        {
          "output_type": "execute_result",
          "data": {
            "text/plain": [
              "12"
            ]
          },
          "metadata": {},
          "execution_count": 54
        }
      ]
    },
    {
      "cell_type": "code",
      "source": [],
      "metadata": {
        "id": "PhTmheX3Dapd"
      },
      "execution_count": null,
      "outputs": []
    },
    {
      "cell_type": "code",
      "source": [
        "s.capitalize()"
      ],
      "metadata": {
        "id": "VqOkkkopuNfY",
        "colab": {
          "base_uri": "https://localhost:8080/",
          "height": 36
        },
        "outputId": "68063591-2c1f-424d-f67f-1585e2f4d5fc"
      },
      "execution_count": null,
      "outputs": [
        {
          "output_type": "execute_result",
          "data": {
            "text/plain": [
              "'Hello world!'"
            ],
            "application/vnd.google.colaboratory.intrinsic+json": {
              "type": "string"
            }
          },
          "metadata": {},
          "execution_count": 55
        }
      ]
    },
    {
      "cell_type": "code",
      "source": [
        "\"valeria\".capitalize()"
      ],
      "metadata": {
        "colab": {
          "base_uri": "https://localhost:8080/",
          "height": 36
        },
        "id": "aBBPVxr5DkaZ",
        "outputId": "0e12f669-5dc2-4f8e-9d29-bfe72ebcec2d"
      },
      "execution_count": null,
      "outputs": [
        {
          "output_type": "execute_result",
          "data": {
            "text/plain": [
              "'Valeria'"
            ],
            "application/vnd.google.colaboratory.intrinsic+json": {
              "type": "string"
            }
          },
          "metadata": {},
          "execution_count": 56
        }
      ]
    },
    {
      "cell_type": "code",
      "source": [
        "s.isdigit()"
      ],
      "metadata": {
        "id": "7_RGwB3vuYsW",
        "colab": {
          "base_uri": "https://localhost:8080/"
        },
        "outputId": "b94e0f14-4569-4140-8b31-705b03cba257"
      },
      "execution_count": null,
      "outputs": [
        {
          "output_type": "execute_result",
          "data": {
            "text/plain": [
              "False"
            ]
          },
          "metadata": {},
          "execution_count": 57
        }
      ]
    },
    {
      "cell_type": "code",
      "source": [
        "\"56\".isdigit()"
      ],
      "metadata": {
        "id": "IcLf5eEyufGu",
        "colab": {
          "base_uri": "https://localhost:8080/"
        },
        "outputId": "64e288e1-a430-4670-c4c2-a5ba2aa02bf2"
      },
      "execution_count": null,
      "outputs": [
        {
          "output_type": "execute_result",
          "data": {
            "text/plain": [
              "True"
            ]
          },
          "metadata": {},
          "execution_count": 58
        }
      ]
    },
    {
      "cell_type": "markdown",
      "source": [
        "## Input / output"
      ],
      "metadata": {
        "id": "-I13rhRpLLT3"
      }
    },
    {
      "cell_type": "code",
      "source": [
        "# input()\n",
        "# print()"
      ],
      "metadata": {
        "id": "X_ON9f8mLSVB"
      },
      "execution_count": null,
      "outputs": []
    },
    {
      "cell_type": "code",
      "source": [
        "num = input()"
      ],
      "metadata": {
        "id": "S31bLBGkdPHx"
      },
      "execution_count": null,
      "outputs": []
    },
    {
      "cell_type": "code",
      "source": [
        "print(num)"
      ],
      "metadata": {
        "id": "SKt6BT3LdYX9"
      },
      "execution_count": null,
      "outputs": []
    },
    {
      "cell_type": "code",
      "source": [
        "num = input(\"Insert a number: \")"
      ],
      "metadata": {
        "id": "SJjrKO4Udboo",
        "colab": {
          "base_uri": "https://localhost:8080/"
        },
        "outputId": "873b8564-eb95-4980-e3a5-8ace9d99102d"
      },
      "execution_count": null,
      "outputs": [
        {
          "name": "stdout",
          "output_type": "stream",
          "text": [
            "Insert a number: 56\n"
          ]
        }
      ]
    },
    {
      "cell_type": "code",
      "source": [
        "type(num)"
      ],
      "metadata": {
        "id": "UZbRXLJadjYk",
        "colab": {
          "base_uri": "https://localhost:8080/"
        },
        "outputId": "d208cdb2-1023-4e3d-a6f9-764c9d335857"
      },
      "execution_count": null,
      "outputs": [
        {
          "output_type": "execute_result",
          "data": {
            "text/plain": [
              "str"
            ]
          },
          "metadata": {},
          "execution_count": 60
        }
      ]
    },
    {
      "cell_type": "code",
      "source": [
        "num * 2"
      ],
      "metadata": {
        "colab": {
          "base_uri": "https://localhost:8080/",
          "height": 36
        },
        "id": "pxWJbw6QD-Qc",
        "outputId": "f9ea92f1-8803-4773-ccf2-b951b93b32a3"
      },
      "execution_count": null,
      "outputs": [
        {
          "output_type": "execute_result",
          "data": {
            "text/plain": [
              "'5656'"
            ],
            "application/vnd.google.colaboratory.intrinsic+json": {
              "type": "string"
            }
          },
          "metadata": {},
          "execution_count": 62
        }
      ]
    },
    {
      "cell_type": "code",
      "source": [
        "num_f = float(num)\n",
        "print(type(num_f))"
      ],
      "metadata": {
        "id": "h4aBCWNMdp6k",
        "colab": {
          "base_uri": "https://localhost:8080/"
        },
        "outputId": "b908476d-107e-47ef-8124-c4db5a96929c"
      },
      "execution_count": null,
      "outputs": [
        {
          "output_type": "stream",
          "name": "stdout",
          "text": [
            "<class 'float'>\n"
          ]
        }
      ]
    },
    {
      "cell_type": "code",
      "source": [
        "float(\"hello\")"
      ],
      "metadata": {
        "colab": {
          "base_uri": "https://localhost:8080/",
          "height": 168
        },
        "id": "-YbSMtdaESYf",
        "outputId": "d52923ff-d915-4bb3-c371-3171e1586773"
      },
      "execution_count": null,
      "outputs": [
        {
          "output_type": "error",
          "ename": "ValueError",
          "evalue": "ignored",
          "traceback": [
            "\u001b[0;31m---------------------------------------------------------------------------\u001b[0m",
            "\u001b[0;31mValueError\u001b[0m                                Traceback (most recent call last)",
            "\u001b[0;32m<ipython-input-64-7124e8e12e61>\u001b[0m in \u001b[0;36m<module>\u001b[0;34m()\u001b[0m\n\u001b[0;32m----> 1\u001b[0;31m \u001b[0mfloat\u001b[0m\u001b[0;34m(\u001b[0m\u001b[0;34m\"hello\"\u001b[0m\u001b[0;34m)\u001b[0m\u001b[0;34m\u001b[0m\u001b[0;34m\u001b[0m\u001b[0m\n\u001b[0m",
            "\u001b[0;31mValueError\u001b[0m: could not convert string to float: 'hello'"
          ]
        }
      ]
    },
    {
      "cell_type": "code",
      "source": [
        "user_input = float(input(\"enter:\"))"
      ],
      "metadata": {
        "colab": {
          "base_uri": "https://localhost:8080/"
        },
        "id": "vUbxo-z_EYko",
        "outputId": "5aefe51f-d3cd-4f56-859e-a7be21a345da"
      },
      "execution_count": null,
      "outputs": [
        {
          "name": "stdout",
          "output_type": "stream",
          "text": [
            "enter:45\n"
          ]
        }
      ]
    },
    {
      "cell_type": "code",
      "source": [
        "print(user_input)"
      ],
      "metadata": {
        "colab": {
          "base_uri": "https://localhost:8080/",
          "height": 132
        },
        "id": "8Y2fU1ZjFPNA",
        "outputId": "441bb0b4-59e4-44f0-bb74-417c41a12dbc"
      },
      "execution_count": null,
      "outputs": [
        {
          "output_type": "error",
          "ename": "SyntaxError",
          "evalue": "ignored",
          "traceback": [
            "\u001b[0;36m  File \u001b[0;32m\"<ipython-input-74-2ad520225549>\"\u001b[0;36m, line \u001b[0;32m1\u001b[0m\n\u001b[0;31m    print(user_input))\u001b[0m\n\u001b[0m                     ^\u001b[0m\n\u001b[0;31mSyntaxError\u001b[0m\u001b[0;31m:\u001b[0m invalid syntax\n"
          ]
        }
      ]
    },
    {
      "cell_type": "code",
      "source": [
        "input(\"sdfsfsdf\")"
      ],
      "metadata": {
        "colab": {
          "base_uri": "https://localhost:8080/",
          "height": 53
        },
        "id": "YYtDdRXDExog",
        "outputId": "ec3a7fad-b1ee-4d96-eb78-f1ac4b5ac8f9"
      },
      "execution_count": null,
      "outputs": [
        {
          "name": "stdout",
          "output_type": "stream",
          "text": [
            "sdfsfsdf45\n"
          ]
        },
        {
          "output_type": "execute_result",
          "data": {
            "text/plain": [
              "'45'"
            ],
            "application/vnd.google.colaboratory.intrinsic+json": {
              "type": "string"
            }
          },
          "metadata": {},
          "execution_count": 68
        }
      ]
    },
    {
      "cell_type": "code",
      "source": [
        "float(\"6.7 \")"
      ],
      "metadata": {
        "id": "PJtjZOXQd16k",
        "colab": {
          "base_uri": "https://localhost:8080/"
        },
        "outputId": "df520803-f85e-4da6-d461-7b88f2a31f99"
      },
      "execution_count": null,
      "outputs": [
        {
          "output_type": "execute_result",
          "data": {
            "text/plain": [
              "6.7"
            ]
          },
          "metadata": {},
          "execution_count": 66
        }
      ]
    },
    {
      "cell_type": "markdown",
      "source": [
        "## Sequence Types — list, tuple, range"
      ],
      "metadata": {
        "id": "3EQMQfdJANM4"
      }
    },
    {
      "cell_type": "markdown",
      "source": [
        "#### list"
      ],
      "metadata": {
        "id": "75_NstDKVzGQ"
      }
    },
    {
      "cell_type": "code",
      "source": [
        "grades = [95, 57, 70, 89]"
      ],
      "metadata": {
        "id": "RxeQumk2eSUX"
      },
      "execution_count": null,
      "outputs": []
    },
    {
      "cell_type": "code",
      "source": [
        "type(grades)"
      ],
      "metadata": {
        "id": "NZuB5-ONea2u",
        "colab": {
          "base_uri": "https://localhost:8080/"
        },
        "outputId": "c7c32ea6-a5b6-4153-e000-302a22348cfb"
      },
      "execution_count": null,
      "outputs": [
        {
          "output_type": "execute_result",
          "data": {
            "text/plain": [
              "list"
            ]
          },
          "metadata": {},
          "execution_count": 76
        }
      ]
    },
    {
      "cell_type": "code",
      "source": [
        "len(grades)"
      ],
      "metadata": {
        "colab": {
          "base_uri": "https://localhost:8080/"
        },
        "id": "IsuzvsA2Gorw",
        "outputId": "167ed558-5387-47ac-fc30-76f19528bc56"
      },
      "execution_count": null,
      "outputs": [
        {
          "output_type": "execute_result",
          "data": {
            "text/plain": [
              "4"
            ]
          },
          "metadata": {},
          "execution_count": 77
        }
      ]
    },
    {
      "cell_type": "code",
      "source": [
        "grades.append(100)"
      ],
      "metadata": {
        "id": "aZJrGbhTGt1q"
      },
      "execution_count": null,
      "outputs": []
    },
    {
      "cell_type": "code",
      "source": [
        "print(grades)"
      ],
      "metadata": {
        "colab": {
          "base_uri": "https://localhost:8080/"
        },
        "id": "smPWmtFaGyEP",
        "outputId": "4a70346d-8a45-4383-9e55-d2e736771145"
      },
      "execution_count": null,
      "outputs": [
        {
          "output_type": "stream",
          "name": "stdout",
          "text": [
            "[95, 57, 70, 89, 100]\n"
          ]
        }
      ]
    },
    {
      "cell_type": "code",
      "source": [
        "grades[1]"
      ],
      "metadata": {
        "colab": {
          "base_uri": "https://localhost:8080/"
        },
        "id": "FoJOKApjG11p",
        "outputId": "5976124b-e7fb-4cac-f59b-1f1f7d3f749d"
      },
      "execution_count": null,
      "outputs": [
        {
          "output_type": "execute_result",
          "data": {
            "text/plain": [
              "57"
            ]
          },
          "metadata": {},
          "execution_count": 80
        }
      ]
    },
    {
      "cell_type": "code",
      "source": [
        "grades.index(57)"
      ],
      "metadata": {
        "colab": {
          "base_uri": "https://localhost:8080/"
        },
        "id": "LNazHDhGHKlm",
        "outputId": "e7023716-82be-4453-b019-7b62c33186f3"
      },
      "execution_count": null,
      "outputs": [
        {
          "output_type": "execute_result",
          "data": {
            "text/plain": [
              "1"
            ]
          },
          "metadata": {},
          "execution_count": 81
        }
      ]
    },
    {
      "cell_type": "code",
      "source": [
        "grades.append(57)"
      ],
      "metadata": {
        "id": "ZBqj-0kqHRbi"
      },
      "execution_count": null,
      "outputs": []
    },
    {
      "cell_type": "code",
      "source": [
        "grades.count(57)"
      ],
      "metadata": {
        "colab": {
          "base_uri": "https://localhost:8080/"
        },
        "id": "iHgdDKYVHpct",
        "outputId": "904df2c4-b5c3-459c-f520-4b226ffea189"
      },
      "execution_count": null,
      "outputs": [
        {
          "output_type": "execute_result",
          "data": {
            "text/plain": [
              "2"
            ]
          },
          "metadata": {},
          "execution_count": 84
        }
      ]
    },
    {
      "cell_type": "code",
      "source": [
        "grades.index(57, 3, 7)"
      ],
      "metadata": {
        "colab": {
          "base_uri": "https://localhost:8080/"
        },
        "id": "GUvBe2TUHxxY",
        "outputId": "16b5c974-1b5f-4f04-8648-c9ea4a446fed"
      },
      "execution_count": null,
      "outputs": [
        {
          "output_type": "execute_result",
          "data": {
            "text/plain": [
              "5"
            ]
          },
          "metadata": {},
          "execution_count": 86
        }
      ]
    },
    {
      "cell_type": "code",
      "source": [
        "print(grades)"
      ],
      "metadata": {
        "colab": {
          "base_uri": "https://localhost:8080/"
        },
        "id": "hVFcihVAHUGK",
        "outputId": "222a2f19-3bd1-47f9-9552-7f58cd5108ba"
      },
      "execution_count": null,
      "outputs": [
        {
          "output_type": "stream",
          "name": "stdout",
          "text": [
            "[95, 57, 70, 89, 100, 57]\n"
          ]
        }
      ]
    },
    {
      "cell_type": "code",
      "source": [
        "grades.insert(3, 60)"
      ],
      "metadata": {
        "id": "lXSE65UcH9bd"
      },
      "execution_count": null,
      "outputs": []
    },
    {
      "cell_type": "code",
      "source": [
        "print(grades)"
      ],
      "metadata": {
        "colab": {
          "base_uri": "https://localhost:8080/"
        },
        "id": "7ExeeVMjIOkG",
        "outputId": "6bb549a4-412e-40c0-9d4f-d02b44a75f70"
      },
      "execution_count": null,
      "outputs": [
        {
          "output_type": "stream",
          "name": "stdout",
          "text": [
            "[95, 57, 70, 60, 89, 100, 57]\n"
          ]
        }
      ]
    },
    {
      "cell_type": "code",
      "source": [
        "grades[4]"
      ],
      "metadata": {
        "colab": {
          "base_uri": "https://localhost:8080/"
        },
        "id": "LkAmSS2FIRkA",
        "outputId": "825bc088-18d4-46d0-bac7-322d08dd43ee"
      },
      "execution_count": null,
      "outputs": [
        {
          "output_type": "execute_result",
          "data": {
            "text/plain": [
              "89"
            ]
          },
          "metadata": {},
          "execution_count": 89
        }
      ]
    },
    {
      "cell_type": "code",
      "source": [
        "grades[-3]"
      ],
      "metadata": {
        "colab": {
          "base_uri": "https://localhost:8080/"
        },
        "id": "fwvIN4ApIUOe",
        "outputId": "c24b14b6-e418-4e29-a103-07f511ea5caf"
      },
      "execution_count": null,
      "outputs": [
        {
          "output_type": "execute_result",
          "data": {
            "text/plain": [
              "89"
            ]
          },
          "metadata": {},
          "execution_count": 91
        }
      ]
    },
    {
      "cell_type": "code",
      "source": [
        "len(grades)"
      ],
      "metadata": {
        "colab": {
          "base_uri": "https://localhost:8080/"
        },
        "id": "yogTCRLgIfj5",
        "outputId": "754ab15b-7e24-43ed-a5a4-ceff1199e2f4"
      },
      "execution_count": null,
      "outputs": [
        {
          "output_type": "execute_result",
          "data": {
            "text/plain": [
              "7"
            ]
          },
          "metadata": {},
          "execution_count": 92
        }
      ]
    },
    {
      "cell_type": "code",
      "source": [
        "grades[2:5]"
      ],
      "metadata": {
        "colab": {
          "base_uri": "https://localhost:8080/"
        },
        "id": "eSyjd7aQIp-l",
        "outputId": "57b5b205-8cfc-4940-faf6-e3cd9f63dbfe"
      },
      "execution_count": null,
      "outputs": [
        {
          "output_type": "execute_result",
          "data": {
            "text/plain": [
              "[70, 60, 89]"
            ]
          },
          "metadata": {},
          "execution_count": 93
        }
      ]
    },
    {
      "cell_type": "code",
      "source": [
        "grades[1:6:2]"
      ],
      "metadata": {
        "colab": {
          "base_uri": "https://localhost:8080/"
        },
        "id": "DRLAcJCKI2i4",
        "outputId": "fd86257a-1a83-467d-aa24-845c0afef3b6"
      },
      "execution_count": null,
      "outputs": [
        {
          "output_type": "execute_result",
          "data": {
            "text/plain": [
              "[57, 60, 100]"
            ]
          },
          "metadata": {},
          "execution_count": 94
        }
      ]
    },
    {
      "cell_type": "code",
      "source": [
        "grades[3:]"
      ],
      "metadata": {
        "colab": {
          "base_uri": "https://localhost:8080/"
        },
        "id": "4pjxBbawJThY",
        "outputId": "76592b3e-c746-4bf2-e6bb-7c9578b97ba5"
      },
      "execution_count": null,
      "outputs": [
        {
          "output_type": "execute_result",
          "data": {
            "text/plain": [
              "[60, 89, 100, 57]"
            ]
          },
          "metadata": {},
          "execution_count": 95
        }
      ]
    },
    {
      "cell_type": "code",
      "source": [
        "grades[:4]"
      ],
      "metadata": {
        "colab": {
          "base_uri": "https://localhost:8080/"
        },
        "id": "DGlpx3r1JkLP",
        "outputId": "c969c133-ccf2-4282-ee7a-627b930322d1"
      },
      "execution_count": null,
      "outputs": [
        {
          "output_type": "execute_result",
          "data": {
            "text/plain": [
              "[95, 57, 70, 60]"
            ]
          },
          "metadata": {},
          "execution_count": 96
        }
      ]
    },
    {
      "cell_type": "code",
      "source": [
        "grades[::]"
      ],
      "metadata": {
        "colab": {
          "base_uri": "https://localhost:8080/"
        },
        "id": "Jc07w1jxJr9a",
        "outputId": "fee8bc6e-5ecf-40c8-ced3-b7949a94c86b"
      },
      "execution_count": null,
      "outputs": [
        {
          "output_type": "execute_result",
          "data": {
            "text/plain": [
              "[95, 57, 70, 60, 89, 100, 57]"
            ]
          },
          "metadata": {},
          "execution_count": 97
        }
      ]
    },
    {
      "cell_type": "code",
      "source": [
        "grades[::-1]"
      ],
      "metadata": {
        "colab": {
          "base_uri": "https://localhost:8080/"
        },
        "id": "PYGdcGO7J0aU",
        "outputId": "421985a1-46c9-4960-da73-98e4bb72e495"
      },
      "execution_count": null,
      "outputs": [
        {
          "output_type": "execute_result",
          "data": {
            "text/plain": [
              "[57, 100, 89, 60, 70, 57, 95]"
            ]
          },
          "metadata": {},
          "execution_count": 98
        }
      ]
    },
    {
      "cell_type": "code",
      "source": [
        "my_list = [100, 102.2, 45, True, \"Hello world\"]"
      ],
      "metadata": {
        "id": "Zbwp0ktFeh5G"
      },
      "execution_count": null,
      "outputs": []
    },
    {
      "cell_type": "code",
      "source": [
        "my_list[2]"
      ],
      "metadata": {
        "id": "Hvk_V1r2etKe",
        "colab": {
          "base_uri": "https://localhost:8080/"
        },
        "outputId": "5224be64-6091-4684-aca4-4f882cb8b74d"
      },
      "execution_count": null,
      "outputs": [
        {
          "output_type": "execute_result",
          "data": {
            "text/plain": [
              "45"
            ]
          },
          "metadata": {},
          "execution_count": 100
        }
      ]
    },
    {
      "cell_type": "code",
      "source": [
        "my_list[-1]"
      ],
      "metadata": {
        "id": "0pQYHRKYe58Q",
        "colab": {
          "base_uri": "https://localhost:8080/",
          "height": 36
        },
        "outputId": "1c41f5bd-a825-4d80-e8dd-a4a9aa355415"
      },
      "execution_count": null,
      "outputs": [
        {
          "output_type": "execute_result",
          "data": {
            "text/plain": [
              "'Hello world'"
            ],
            "application/vnd.google.colaboratory.intrinsic+json": {
              "type": "string"
            }
          },
          "metadata": {},
          "execution_count": 101
        }
      ]
    },
    {
      "cell_type": "code",
      "source": [
        "my_list[-2]"
      ],
      "metadata": {
        "id": "Mdrm_vDRfAl2"
      },
      "execution_count": null,
      "outputs": []
    },
    {
      "cell_type": "code",
      "source": [
        "my_list[1:3]"
      ],
      "metadata": {
        "id": "GH5tw6HMfEaA"
      },
      "execution_count": null,
      "outputs": []
    },
    {
      "cell_type": "code",
      "source": [
        "my_list[5:1:-2]"
      ],
      "metadata": {
        "id": "wvXPCGqPfSjE"
      },
      "execution_count": null,
      "outputs": []
    },
    {
      "cell_type": "code",
      "source": [
        "my_list[3:]"
      ],
      "metadata": {
        "id": "x4NMuzGLf0OY"
      },
      "execution_count": null,
      "outputs": []
    },
    {
      "cell_type": "code",
      "source": [
        "my_list[:3]"
      ],
      "metadata": {
        "id": "3XfR_2zUf-oD"
      },
      "execution_count": null,
      "outputs": []
    },
    {
      "cell_type": "code",
      "source": [
        "list1 = [45, 5, 6, my_list, \"Hi\", 45, 5, \"Valeria\", [], [4,5,6,7], [[1,2], [2,3], [4,5]], my_list[2]]"
      ],
      "metadata": {
        "id": "VYIljFtdgO1V"
      },
      "execution_count": null,
      "outputs": []
    },
    {
      "cell_type": "code",
      "source": [
        "list1[-2][1][-1] + list1[1]"
      ],
      "metadata": {
        "colab": {
          "base_uri": "https://localhost:8080/"
        },
        "id": "LLfnap6tKY-M",
        "outputId": "3134275f-a86e-4fb1-b0f5-a10ffb9d79f5"
      },
      "execution_count": null,
      "outputs": [
        {
          "output_type": "execute_result",
          "data": {
            "text/plain": [
              "8"
            ]
          },
          "metadata": {},
          "execution_count": 107
        }
      ]
    },
    {
      "cell_type": "code",
      "source": [
        "list1[-2][1][-1]"
      ],
      "metadata": {
        "id": "FDUhq21Kgt-F"
      },
      "execution_count": null,
      "outputs": []
    },
    {
      "cell_type": "code",
      "source": [
        "list1[-3] + list1[-2][-1]"
      ],
      "metadata": {
        "colab": {
          "base_uri": "https://localhost:8080/"
        },
        "id": "jO-1eHCYK8zs",
        "outputId": "75176cd5-f27c-4893-8190-7c0c3712f0f6"
      },
      "execution_count": null,
      "outputs": [
        {
          "output_type": "execute_result",
          "data": {
            "text/plain": [
              "[4, 5, 6, 7, 4, 5]"
            ]
          },
          "metadata": {},
          "execution_count": 108
        }
      ]
    },
    {
      "cell_type": "code",
      "source": [
        "print(4 + 5)\n"
      ],
      "metadata": {
        "colab": {
          "base_uri": "https://localhost:8080/"
        },
        "id": "Zw6hlyu6LU9Q",
        "outputId": "176e522e-a3eb-4da4-a385-5b677c619df1"
      },
      "execution_count": null,
      "outputs": [
        {
          "output_type": "stream",
          "name": "stdout",
          "text": [
            "9\n"
          ]
        }
      ]
    },
    {
      "cell_type": "code",
      "source": [
        "print(\"Hello \" + \"World\")"
      ],
      "metadata": {
        "colab": {
          "base_uri": "https://localhost:8080/"
        },
        "id": "8EUOST-gLcc_",
        "outputId": "cb0829cf-5527-42bf-a1f9-0137cc70eea7"
      },
      "execution_count": null,
      "outputs": [
        {
          "output_type": "stream",
          "name": "stdout",
          "text": [
            "Hello World\n"
          ]
        }
      ]
    },
    {
      "cell_type": "code",
      "source": [
        "print([1,2,3] + [10, 20, 30, 40])"
      ],
      "metadata": {
        "colab": {
          "base_uri": "https://localhost:8080/"
        },
        "id": "T2KuxMFQLhUI",
        "outputId": "6f86430f-e832-4962-817d-f612d63d81eb"
      },
      "execution_count": null,
      "outputs": [
        {
          "output_type": "stream",
          "name": "stdout",
          "text": [
            "[1, 2, 3, 10, 20, 30, 40]\n"
          ]
        }
      ]
    },
    {
      "cell_type": "code",
      "source": [
        "print(list1)"
      ],
      "metadata": {
        "colab": {
          "base_uri": "https://localhost:8080/"
        },
        "id": "O-UOu-5nMpZI",
        "outputId": "9878eddc-3308-4995-ad51-2e7b28126ade"
      },
      "execution_count": null,
      "outputs": [
        {
          "output_type": "stream",
          "name": "stdout",
          "text": [
            "[45, 5, 6, [100, 102.2, 45, True, 'Hello world'], 'Hi', 45, 5, 'Valeria', [], [4, 5, 6, 7], [[1, 2], [2, 3], [4, 5]], 45]\n"
          ]
        }
      ]
    },
    {
      "cell_type": "code",
      "source": [
        "\"Hi\" in list1"
      ],
      "metadata": {
        "id": "81hs-nHxkew0",
        "colab": {
          "base_uri": "https://localhost:8080/"
        },
        "outputId": "9ec75bbf-c888-49fc-bbdc-0b06e65ac3a9"
      },
      "execution_count": null,
      "outputs": [
        {
          "output_type": "execute_result",
          "data": {
            "text/plain": [
              "True"
            ]
          },
          "metadata": {},
          "execution_count": 113
        }
      ]
    },
    {
      "cell_type": "code",
      "source": [
        "999 in list1"
      ],
      "metadata": {
        "id": "pk96pH1oklVE",
        "colab": {
          "base_uri": "https://localhost:8080/"
        },
        "outputId": "1ee199ce-7201-4128-c10c-63a698f9347d"
      },
      "execution_count": null,
      "outputs": [
        {
          "output_type": "execute_result",
          "data": {
            "text/plain": [
              "False"
            ]
          },
          "metadata": {},
          "execution_count": 114
        }
      ]
    },
    {
      "cell_type": "code",
      "source": [
        "\"a\" in \"Valeria\""
      ],
      "metadata": {
        "colab": {
          "base_uri": "https://localhost:8080/"
        },
        "id": "ES1wVouVNS8E",
        "outputId": "1a671c63-48df-46e6-a9a1-957bae85ae94"
      },
      "execution_count": null,
      "outputs": [
        {
          "output_type": "execute_result",
          "data": {
            "text/plain": [
              "True"
            ]
          },
          "metadata": {},
          "execution_count": 116
        }
      ]
    },
    {
      "cell_type": "code",
      "source": [
        "list1.index(999)"
      ],
      "metadata": {
        "id": "KmJ7wEmeM6CH"
      },
      "execution_count": null,
      "outputs": []
    },
    {
      "cell_type": "code",
      "source": [
        "import numpy"
      ],
      "metadata": {
        "id": "B_xMGTUUNGDv"
      },
      "execution_count": null,
      "outputs": []
    },
    {
      "cell_type": "code",
      "source": [
        "a1 = numpy.array([1,2,3])\n",
        "a2 = numpy.array([10,20,30])\n",
        "a1 + a2"
      ],
      "metadata": {
        "colab": {
          "base_uri": "https://localhost:8080/"
        },
        "id": "maSZIlg6NyVF",
        "outputId": "9911fc4c-a5dc-4575-ac03-f6fcb484c085"
      },
      "execution_count": null,
      "outputs": [
        {
          "output_type": "execute_result",
          "data": {
            "text/plain": [
              "array([11, 22, 33])"
            ]
          },
          "metadata": {},
          "execution_count": 118
        }
      ]
    },
    {
      "cell_type": "code",
      "source": [
        "my_list * 2"
      ],
      "metadata": {
        "id": "27Qve9HAkqY2"
      },
      "execution_count": null,
      "outputs": []
    },
    {
      "cell_type": "code",
      "source": [
        "my_list + list1"
      ],
      "metadata": {
        "id": "jNTIDwehk2pq"
      },
      "execution_count": null,
      "outputs": []
    },
    {
      "cell_type": "code",
      "source": [
        "my_list"
      ],
      "metadata": {
        "id": "a-Oo42NilA8L"
      },
      "execution_count": null,
      "outputs": []
    },
    {
      "cell_type": "code",
      "source": [
        "my_list[2] = 46"
      ],
      "metadata": {
        "id": "dvXxv3CvlE9b"
      },
      "execution_count": null,
      "outputs": []
    },
    {
      "cell_type": "code",
      "source": [
        "my_list"
      ],
      "metadata": {
        "id": "Zs09bEo8lK7T"
      },
      "execution_count": null,
      "outputs": []
    },
    {
      "cell_type": "code",
      "source": [
        "my_list.append(\"ttt\")"
      ],
      "metadata": {
        "id": "MnrAbo9slNuZ"
      },
      "execution_count": null,
      "outputs": []
    },
    {
      "cell_type": "code",
      "source": [
        "my_list"
      ],
      "metadata": {
        "id": "a5-9jkEOlfL_"
      },
      "execution_count": null,
      "outputs": []
    },
    {
      "cell_type": "code",
      "source": [
        "my_list.count(46)"
      ],
      "metadata": {
        "id": "JT1jok51lh_4"
      },
      "execution_count": null,
      "outputs": []
    },
    {
      "cell_type": "code",
      "source": [
        "list1"
      ],
      "metadata": {
        "id": "T3bUJLE1lyO8"
      },
      "execution_count": null,
      "outputs": []
    },
    {
      "cell_type": "code",
      "source": [
        "list1.count(45)"
      ],
      "metadata": {
        "id": "hBtY8NvLlt4E"
      },
      "execution_count": null,
      "outputs": []
    },
    {
      "cell_type": "code",
      "source": [
        "len(list1)"
      ],
      "metadata": {
        "id": "3Fx6MAQql499"
      },
      "execution_count": null,
      "outputs": []
    },
    {
      "cell_type": "code",
      "source": [
        "numbers_list = [3, 5, 56.7, 100.6, 45.2]"
      ],
      "metadata": {
        "id": "u5bAmcqumPGc"
      },
      "execution_count": null,
      "outputs": []
    },
    {
      "cell_type": "code",
      "source": [
        "max(numbers_list)"
      ],
      "metadata": {
        "id": "OlYhogFFmFQC"
      },
      "execution_count": null,
      "outputs": []
    },
    {
      "cell_type": "markdown",
      "source": [
        "#### Indexing / slicing table"
      ],
      "metadata": {
        "id": "l0ixw6C4QepI"
      }
    },
    {
      "cell_type": "markdown",
      "source": [
        "![image.png](data:image/png;base64,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)"
      ],
      "metadata": {
        "id": "hoANLe81AVV5"
      }
    },
    {
      "cell_type": "markdown",
      "source": [
        "### String as a sequence"
      ],
      "metadata": {
        "id": "TzlUtWQjc-ej"
      }
    },
    {
      "cell_type": "code",
      "source": [
        "# string as a sequence\n",
        "s = \"Hello World!\""
      ],
      "metadata": {
        "id": "9iYre0mSLphL"
      },
      "execution_count": null,
      "outputs": []
    },
    {
      "cell_type": "code",
      "source": [
        "s1 = 'Hello World!'"
      ],
      "metadata": {
        "id": "Q1TqXefdqtv6"
      },
      "execution_count": null,
      "outputs": []
    },
    {
      "cell_type": "code",
      "source": [
        "s2 = 'She said: \"Hello!\"'"
      ],
      "metadata": {
        "id": "EzhgYYglqxwf"
      },
      "execution_count": null,
      "outputs": []
    },
    {
      "cell_type": "code",
      "source": [
        "s3 = \"I said 'beautiful'\""
      ],
      "metadata": {
        "id": "ICUz1V5drGC4"
      },
      "execution_count": null,
      "outputs": []
    },
    {
      "cell_type": "code",
      "source": [
        "print(s)"
      ],
      "metadata": {
        "id": "o4mA_Sb1rOMe"
      },
      "execution_count": null,
      "outputs": []
    },
    {
      "cell_type": "code",
      "source": [
        "s1[3:10:2]"
      ],
      "metadata": {
        "id": "2zISvfBbU5wZ"
      },
      "execution_count": null,
      "outputs": []
    },
    {
      "cell_type": "code",
      "source": [
        "s[:5]"
      ],
      "metadata": {
        "id": "291rfs3ZrSEt"
      },
      "execution_count": null,
      "outputs": []
    },
    {
      "cell_type": "code",
      "source": [
        "s[::]"
      ],
      "metadata": {
        "id": "6fd22iGCrttB"
      },
      "execution_count": null,
      "outputs": []
    },
    {
      "cell_type": "code",
      "source": [
        "# reverse a string\n",
        "s[::-1]"
      ],
      "metadata": {
        "id": "BvNGlkpk3fzF"
      },
      "execution_count": null,
      "outputs": []
    },
    {
      "cell_type": "code",
      "source": [
        "str(5)"
      ],
      "metadata": {
        "id": "az44WW--sCDc"
      },
      "execution_count": null,
      "outputs": []
    },
    {
      "cell_type": "markdown",
      "source": [
        "### Tuple"
      ],
      "metadata": {
        "id": "35GbBh9-Qm0G"
      }
    },
    {
      "cell_type": "code",
      "source": [
        "t1 = (3, 4, 56, \"Hi\", True, [3,4,5])"
      ],
      "metadata": {
        "id": "0RQFAE9FE3Dy"
      },
      "execution_count": null,
      "outputs": []
    },
    {
      "cell_type": "code",
      "source": [
        "t1[3]"
      ],
      "metadata": {
        "id": "bHPD_gZ5m40S"
      },
      "execution_count": null,
      "outputs": []
    },
    {
      "cell_type": "code",
      "source": [
        "t1[3] = \"Blabla\""
      ],
      "metadata": {
        "id": "shYnnSoLm-_P"
      },
      "execution_count": null,
      "outputs": []
    },
    {
      "cell_type": "code",
      "source": [
        "type(t1)"
      ],
      "metadata": {
        "id": "avrTbpStnG5p"
      },
      "execution_count": null,
      "outputs": []
    },
    {
      "cell_type": "markdown",
      "source": [
        "### Tuples and Destructing values"
      ],
      "metadata": {
        "id": "2B6PFLEHHbej"
      }
    },
    {
      "cell_type": "code",
      "source": [
        "x, y = 5, 11 # this is actually a tuple"
      ],
      "metadata": {
        "id": "RHiUEChEHgww"
      },
      "execution_count": null,
      "outputs": []
    },
    {
      "cell_type": "code",
      "source": [
        "print(x, y)"
      ],
      "metadata": {
        "id": "uUcm8CQdHjFG"
      },
      "execution_count": null,
      "outputs": []
    },
    {
      "cell_type": "code",
      "source": [
        "x, y = (5, 11)"
      ],
      "metadata": {
        "id": "ymn0O8lDHlak"
      },
      "execution_count": null,
      "outputs": []
    },
    {
      "cell_type": "code",
      "source": [
        "print(x)"
      ],
      "metadata": {
        "id": "08-3ioSznoJU"
      },
      "execution_count": null,
      "outputs": []
    },
    {
      "cell_type": "code",
      "source": [
        "x, y = [5, 11]"
      ],
      "metadata": {
        "id": "sYzJPDD8Hsxc"
      },
      "execution_count": null,
      "outputs": []
    },
    {
      "cell_type": "code",
      "source": [
        "print(x)"
      ],
      "metadata": {
        "id": "9HRaeNu2nwuW"
      },
      "execution_count": null,
      "outputs": []
    },
    {
      "cell_type": "code",
      "source": [
        "x,y = set([5,11])"
      ],
      "metadata": {
        "id": "R5ig7R7oHxKb"
      },
      "execution_count": null,
      "outputs": []
    },
    {
      "cell_type": "code",
      "source": [
        "person = (\"Bob\", 42, \"Mechanic\")\n",
        "name, _, profession = person\n",
        "\n",
        "print(name, profession)  # Bob Mechanic"
      ],
      "metadata": {
        "id": "ZMt9HVROH0G2"
      },
      "execution_count": null,
      "outputs": []
    },
    {
      "cell_type": "code",
      "source": [
        "head, *tail = [1, 2, 3, 4, 5]\n",
        "\n",
        "print(head)  # 1\n",
        "print(tail)  # [2, 3, 4, 5]"
      ],
      "metadata": {
        "id": "Jnq_ng_aIF2s"
      },
      "execution_count": null,
      "outputs": []
    },
    {
      "cell_type": "code",
      "source": [
        "*head, tail = [1, 2, 3, 4, 5]\n",
        "\n",
        "print(head)  # [1, 2, 3, 4]\n",
        "print(tail)  # 5"
      ],
      "metadata": {
        "id": "PslYV3EVIGFY"
      },
      "execution_count": null,
      "outputs": []
    },
    {
      "cell_type": "code",
      "source": [
        "head, *middle, tail = [1, 2, 3, 4, 5]\n",
        "\n",
        "print(head)    # 1\n",
        "print(middle)  # [2, 3, 4]\n",
        "print(tail)    # 5"
      ],
      "metadata": {
        "id": "sOV2KOhhII_4"
      },
      "execution_count": null,
      "outputs": []
    },
    {
      "cell_type": "markdown",
      "source": [
        "### Range"
      ],
      "metadata": {
        "id": "7RlxDfAEE3WW"
      }
    },
    {
      "cell_type": "code",
      "source": [
        "my_range = range(100_000_000)"
      ],
      "metadata": {
        "id": "ShZbLvcaE5iX"
      },
      "execution_count": null,
      "outputs": []
    },
    {
      "cell_type": "code",
      "source": [
        "type(my_range)"
      ],
      "metadata": {
        "id": "ROqq9f6-pP-5"
      },
      "execution_count": null,
      "outputs": []
    },
    {
      "cell_type": "code",
      "source": [
        "10 in my_range"
      ],
      "metadata": {
        "id": "nvDBOE4XpUH2"
      },
      "execution_count": null,
      "outputs": []
    },
    {
      "cell_type": "code",
      "source": [
        "my_range = range(5, 20, 2)"
      ],
      "metadata": {
        "id": "JGJLH-4dpcj3"
      },
      "execution_count": null,
      "outputs": []
    },
    {
      "cell_type": "code",
      "source": [
        "list(my_range)"
      ],
      "metadata": {
        "id": "umxZCX63psHr"
      },
      "execution_count": null,
      "outputs": []
    },
    {
      "cell_type": "code",
      "source": [
        "my_range = range(20, 5, -2)"
      ],
      "metadata": {
        "id": "Cq79QAUtp0ZY"
      },
      "execution_count": null,
      "outputs": []
    },
    {
      "cell_type": "code",
      "source": [
        "list(my_range)"
      ],
      "metadata": {
        "id": "zZBdjK-Ip7Js"
      },
      "execution_count": null,
      "outputs": []
    },
    {
      "cell_type": "code",
      "source": [
        "for i in range(10):\n",
        "  print(i)"
      ],
      "metadata": {
        "id": "EWpgEC2TTlFm"
      },
      "execution_count": null,
      "outputs": []
    },
    {
      "cell_type": "code",
      "source": [
        "for i in range(10, 0, -1):\n",
        "  print(i)"
      ],
      "metadata": {
        "id": "X5YoUuTwTwek"
      },
      "execution_count": null,
      "outputs": []
    },
    {
      "cell_type": "code",
      "source": [
        "import numpy"
      ],
      "metadata": {
        "id": "hccmFbpgqeAH"
      },
      "execution_count": null,
      "outputs": []
    },
    {
      "cell_type": "markdown",
      "source": [
        "## String\n",
        "\n",
        "Single quotes: 'allows embedded \"double\" quotes'\n",
        "\n",
        "Double quotes: \"allows embedded 'single' quotes\"\n",
        "\n",
        "Triple quoted: '''Three single quotes''', \"\"\"Three double quotes\"\"\""
      ],
      "metadata": {
        "id": "rQvYER4z-70Y"
      }
    },
    {
      "cell_type": "markdown",
      "source": [
        "## Boolean/truth evaluation"
      ],
      "metadata": {
        "id": "njEX6o_RW6ed"
      }
    },
    {
      "cell_type": "code",
      "source": [
        "# Any object can be tested (evaluated) for truth value"
      ],
      "metadata": {
        "id": "84l0ZA5w7cJP"
      },
      "execution_count": null,
      "outputs": []
    },
    {
      "cell_type": "code",
      "source": [
        "# comparison operators"
      ],
      "metadata": {
        "id": "6haSWWzkQOBo"
      },
      "execution_count": null,
      "outputs": []
    },
    {
      "cell_type": "code",
      "source": [
        "num = 5\n",
        "num1 = 8"
      ],
      "metadata": {
        "id": "qkTeCLixj6bS"
      },
      "execution_count": null,
      "outputs": []
    },
    {
      "cell_type": "code",
      "source": [
        "num <= num1"
      ],
      "metadata": {
        "id": "2WvwJECcaXdH",
        "colab": {
          "base_uri": "https://localhost:8080/"
        },
        "outputId": "84d91e01-6ffb-4312-ca82-c9178b622a80"
      },
      "execution_count": null,
      "outputs": [
        {
          "output_type": "execute_result",
          "data": {
            "text/plain": [
              "True"
            ]
          },
          "metadata": {},
          "execution_count": 120
        }
      ]
    },
    {
      "cell_type": "code",
      "source": [
        "num == num1"
      ],
      "metadata": {
        "id": "4zSOD2luaj4N",
        "colab": {
          "base_uri": "https://localhost:8080/"
        },
        "outputId": "0b8f96b9-adef-4332-cf80-b74c0e357025"
      },
      "execution_count": null,
      "outputs": [
        {
          "output_type": "execute_result",
          "data": {
            "text/plain": [
              "False"
            ]
          },
          "metadata": {},
          "execution_count": 121
        }
      ]
    },
    {
      "cell_type": "code",
      "source": [
        "num = num1"
      ],
      "metadata": {
        "id": "H5z-HzbdkpGi"
      },
      "execution_count": null,
      "outputs": []
    },
    {
      "cell_type": "code",
      "source": [
        "num == num1-3"
      ],
      "metadata": {
        "colab": {
          "base_uri": "https://localhost:8080/"
        },
        "id": "hLSv7cwRkXz6",
        "outputId": "cd14df21-82df-4bf0-8736-e28536f521ac"
      },
      "execution_count": null,
      "outputs": [
        {
          "output_type": "execute_result",
          "data": {
            "text/plain": [
              "True"
            ]
          },
          "metadata": {},
          "execution_count": 122
        }
      ]
    },
    {
      "cell_type": "code",
      "source": [
        "5 != 5"
      ],
      "metadata": {
        "id": "bSUNuYF1anJC",
        "colab": {
          "base_uri": "https://localhost:8080/"
        },
        "outputId": "3283e31e-25a1-4974-a470-5ea014dddad4"
      },
      "execution_count": null,
      "outputs": [
        {
          "output_type": "execute_result",
          "data": {
            "text/plain": [
              "False"
            ]
          },
          "metadata": {},
          "execution_count": 123
        }
      ]
    },
    {
      "cell_type": "code",
      "source": [
        "b1 = True\n",
        "b2 = False"
      ],
      "metadata": {
        "id": "XMuM97p8k3WU"
      },
      "execution_count": null,
      "outputs": []
    },
    {
      "cell_type": "code",
      "source": [
        "b1 and b2"
      ],
      "metadata": {
        "colab": {
          "base_uri": "https://localhost:8080/"
        },
        "id": "HA90_HaxlAGo",
        "outputId": "1be01a9b-26c8-4694-c261-4fba19fb3db1"
      },
      "execution_count": null,
      "outputs": [
        {
          "output_type": "execute_result",
          "data": {
            "text/plain": [
              "False"
            ]
          },
          "metadata": {},
          "execution_count": 125
        }
      ]
    },
    {
      "cell_type": "code",
      "source": [
        "b1 or b2"
      ],
      "metadata": {
        "colab": {
          "base_uri": "https://localhost:8080/"
        },
        "id": "hoEBz7KQlUcG",
        "outputId": "3089e487-00c5-461a-dd8e-a3f3c9faa355"
      },
      "execution_count": null,
      "outputs": [
        {
          "output_type": "execute_result",
          "data": {
            "text/plain": [
              "True"
            ]
          },
          "metadata": {},
          "execution_count": 126
        }
      ]
    },
    {
      "cell_type": "code",
      "source": [
        "password = input(\"enter a pass: \")\n"
      ],
      "metadata": {
        "colab": {
          "base_uri": "https://localhost:8080/"
        },
        "id": "CQh-CrM3lfPU",
        "outputId": "16a9a0e5-29c9-4ed2-b9b9-3b0e0830e45d"
      },
      "execution_count": null,
      "outputs": [
        {
          "name": "stdout",
          "output_type": "stream",
          "text": [
            "enter a pass: Password!\n"
          ]
        }
      ]
    },
    {
      "cell_type": "code",
      "source": [
        "is_long_pass = len(password) >= 8"
      ],
      "metadata": {
        "id": "pXuES5h4lvBX"
      },
      "execution_count": null,
      "outputs": []
    },
    {
      "cell_type": "code",
      "source": [
        "print(is_long_pass)"
      ],
      "metadata": {
        "colab": {
          "base_uri": "https://localhost:8080/"
        },
        "id": "0nzioOyjl6LP",
        "outputId": "6789f97c-639d-4670-9461-ec0015f4b3dc"
      },
      "execution_count": null,
      "outputs": [
        {
          "output_type": "stream",
          "name": "stdout",
          "text": [
            "True\n"
          ]
        }
      ]
    },
    {
      "cell_type": "code",
      "source": [
        "has_exclamation = \"!\" in password"
      ],
      "metadata": {
        "id": "TiD-1svnl9iK"
      },
      "execution_count": null,
      "outputs": []
    },
    {
      "cell_type": "code",
      "source": [
        "is_long_pass and has_exclamation"
      ],
      "metadata": {
        "colab": {
          "base_uri": "https://localhost:8080/"
        },
        "id": "GxGwKhk3mJty",
        "outputId": "2f72aa40-83fd-414e-b9cc-a685318d59c9"
      },
      "execution_count": null,
      "outputs": [
        {
          "output_type": "execute_result",
          "data": {
            "text/plain": [
              "True"
            ]
          },
          "metadata": {},
          "execution_count": 131
        }
      ]
    },
    {
      "cell_type": "code",
      "source": [
        "password.isupper()"
      ],
      "metadata": {
        "colab": {
          "base_uri": "https://localhost:8080/"
        },
        "id": "49lz2NaJmSFS",
        "outputId": "14fc1161-134c-4c42-f10a-3c216737aa14"
      },
      "execution_count": null,
      "outputs": [
        {
          "output_type": "execute_result",
          "data": {
            "text/plain": [
              "False"
            ]
          },
          "metadata": {},
          "execution_count": 133
        }
      ]
    },
    {
      "cell_type": "code",
      "source": [
        "# bool type + casting"
      ],
      "metadata": {
        "id": "kfT3_njT9GIf"
      },
      "execution_count": null,
      "outputs": []
    },
    {
      "cell_type": "code",
      "source": [
        "type(5 != 5)"
      ],
      "metadata": {
        "id": "Kb_pWh32az0D"
      },
      "execution_count": null,
      "outputs": []
    },
    {
      "cell_type": "code",
      "source": [
        "if 5 != 5 :\n",
        "  print(\"bla\")\n",
        "else:\n",
        "  print(\"blabla\")"
      ],
      "metadata": {
        "id": "oRbMuDSJa7pg"
      },
      "execution_count": null,
      "outputs": []
    },
    {
      "cell_type": "code",
      "source": [
        "num = 0\n",
        "if num:\n",
        "  print(\"Hi\")\n",
        "print(\"g\")"
      ],
      "metadata": {
        "id": "zBFtw90tbaF-"
      },
      "execution_count": null,
      "outputs": []
    },
    {
      "cell_type": "code",
      "source": [
        "# logical operators: and / or / not"
      ],
      "metadata": {
        "id": "BM2cglg-AuO6"
      },
      "execution_count": null,
      "outputs": []
    },
    {
      "cell_type": "code",
      "source": [
        "sun_shining = False\n",
        "raining = True\n",
        "\n",
        "sun_shining and raining"
      ],
      "metadata": {
        "id": "KjZRCxjucNnZ"
      },
      "execution_count": null,
      "outputs": []
    },
    {
      "cell_type": "code",
      "source": [
        "\n",
        "sun_shining or raining\n"
      ],
      "metadata": {
        "id": "lw1d3MOKcm3p"
      },
      "execution_count": null,
      "outputs": []
    },
    {
      "cell_type": "code",
      "source": [
        "not raining"
      ],
      "metadata": {
        "id": "EPMNGTmDctYl"
      },
      "execution_count": null,
      "outputs": []
    },
    {
      "cell_type": "code",
      "source": [
        "num = 0\n",
        "bool(num)"
      ],
      "metadata": {
        "id": "dj3aSnaAc2RC"
      },
      "execution_count": null,
      "outputs": []
    },
    {
      "cell_type": "code",
      "source": [
        "int(raining)"
      ],
      "metadata": {
        "id": "zu6ZsC5DdAAi"
      },
      "execution_count": null,
      "outputs": []
    },
    {
      "cell_type": "code",
      "source": [
        "empty_str = \"\""
      ],
      "metadata": {
        "id": "ZFqsvkxER4Gb"
      },
      "execution_count": null,
      "outputs": []
    },
    {
      "cell_type": "code",
      "source": [
        "bool(empty_str)"
      ],
      "metadata": {
        "id": "RHXjKbIbR_X4"
      },
      "execution_count": null,
      "outputs": []
    },
    {
      "cell_type": "code",
      "source": [
        "word = \" \"\n",
        "bool(word)"
      ],
      "metadata": {
        "id": "CZ0z-GPwSDKN"
      },
      "execution_count": null,
      "outputs": []
    },
    {
      "cell_type": "code",
      "source": [
        "if word:\n",
        "  print(\"ok\")"
      ],
      "metadata": {
        "id": "dGWEjlXpSJEi"
      },
      "execution_count": null,
      "outputs": []
    },
    {
      "cell_type": "markdown",
      "source": [
        "## Conditions"
      ],
      "metadata": {
        "id": "7sUKZvbHMSsy"
      }
    },
    {
      "cell_type": "markdown",
      "source": [
        "### if/else/elif"
      ],
      "metadata": {
        "id": "DzGhCfrmW0aY"
      }
    },
    {
      "cell_type": "code",
      "source": [
        "num = int(input(\"insert a num: \"))\n",
        "if num <= 0:\n",
        "  print(\"Negative\")\n",
        "  print(\"Yey\")\n",
        "print(\"bye\")"
      ],
      "metadata": {
        "colab": {
          "base_uri": "https://localhost:8080/"
        },
        "id": "4-0cyKFWnSHT",
        "outputId": "badab90d-0eb9-41cb-cd96-2d05ae539704"
      },
      "execution_count": null,
      "outputs": [
        {
          "output_type": "stream",
          "name": "stdout",
          "text": [
            "insert a num: 6\n",
            "bye\n"
          ]
        }
      ]
    },
    {
      "cell_type": "code",
      "source": [
        "num = int(input(\"insert a num: \"))\n",
        "if num <= 0:\n",
        "  print(\"Negative\")\n",
        "  print(\"Yey\")\n",
        "  print(\"bye\")"
      ],
      "metadata": {
        "colab": {
          "base_uri": "https://localhost:8080/"
        },
        "id": "luvbD8sEoQNt",
        "outputId": "002bb0ae-24cb-4d9e-cd7a-fc822310920d"
      },
      "execution_count": null,
      "outputs": [
        {
          "name": "stdout",
          "output_type": "stream",
          "text": [
            "insert a num: 6\n"
          ]
        }
      ]
    },
    {
      "cell_type": "code",
      "source": [
        "num = int(input(\"insert a num: \"))\n",
        "if num <= 0:\n",
        "  print(\"Negative\")\n",
        "\n",
        "print(\"Positive\")"
      ],
      "metadata": {
        "id": "86ChfTLDovxd"
      },
      "execution_count": null,
      "outputs": []
    },
    {
      "cell_type": "code",
      "source": [
        "num = int(input(\"insert a num: \"))\n",
        "if num <= 0:\n",
        "  print(\"Negative\")\n",
        "else:\n",
        "  print(\"Positive\")"
      ],
      "metadata": {
        "colab": {
          "base_uri": "https://localhost:8080/"
        },
        "id": "qm9-KC1woiWP",
        "outputId": "386d2d44-e658-4f6d-a23e-7b9254ec50ab"
      },
      "execution_count": null,
      "outputs": [
        {
          "output_type": "stream",
          "name": "stdout",
          "text": [
            "insert a num: 0\n",
            "Negative\n"
          ]
        }
      ]
    },
    {
      "cell_type": "code",
      "source": [
        "num = int(input(\"insert a num: \"))\n",
        "if num < 0:\n",
        "  print(\"Negative\")\n",
        "elif num > 0:\n",
        "  print(\"Positive\")\n",
        "else:\n",
        "  print(\"Zero\")\n"
      ],
      "metadata": {
        "colab": {
          "base_uri": "https://localhost:8080/"
        },
        "id": "4EA-S5W4o_hd",
        "outputId": "af8059c5-5fd9-45fe-cc90-c50abb839d99"
      },
      "execution_count": null,
      "outputs": [
        {
          "output_type": "stream",
          "name": "stdout",
          "text": [
            "insert a num: 0\n",
            "Zero\n"
          ]
        }
      ]
    },
    {
      "cell_type": "code",
      "source": [
        "num = int(input(\"insert a num: \"))\n",
        "if num < 0:\n",
        "  print(\"Negative\")\n",
        "  if num < -100:\n",
        "    print(\"Less than -100\")\n",
        "elif num > 0:\n",
        "  print(\"Positive\")\n",
        "  if num > 100 and num % 10 == 0:\n",
        "    print(\"You won!\")\n",
        "else:\n",
        "  print(\"Zero\")"
      ],
      "metadata": {
        "colab": {
          "base_uri": "https://localhost:8080/"
        },
        "id": "Y7rbu_rZpmQT",
        "outputId": "a6134fac-fbda-4c05-8a22-96d1b776d1c9"
      },
      "execution_count": null,
      "outputs": [
        {
          "output_type": "stream",
          "name": "stdout",
          "text": [
            "insert a num: -150\n",
            "Negative\n",
            "Less than -100\n"
          ]
        }
      ]
    },
    {
      "cell_type": "code",
      "source": [
        "False and True or True"
      ],
      "metadata": {
        "id": "iF7SK9WcsBU1"
      },
      "execution_count": null,
      "outputs": []
    },
    {
      "cell_type": "code",
      "source": [
        "False and (True or True)"
      ],
      "metadata": {
        "id": "XnS77fS0sDyu"
      },
      "execution_count": null,
      "outputs": []
    },
    {
      "cell_type": "code",
      "source": [
        "# if Statements (elif / else)\n",
        "user_input = float(input(\"Please insert a number: \"))\n",
        "\n",
        "if user_input < 0:\n",
        "  print(\"Negative\")\n",
        "else:\n",
        "  if user_input > 0:\n",
        "    print(\"Positive\")\n",
        "  else:\n",
        "    print(\"Zero\")"
      ],
      "metadata": {
        "id": "M-_YPXBgMVn4"
      },
      "execution_count": null,
      "outputs": []
    },
    {
      "cell_type": "code",
      "source": [
        "user_input = float(input(\"Please insert a number: \"))\n",
        "\n",
        "if user_input < 0:\n",
        "  print(\"Negative\")\n",
        "elif user_input > 0:\n",
        "  print(\"Positive\")\n",
        "else:\n",
        "  print(\"Zero\")"
      ],
      "metadata": {
        "id": "UPCvo0jEx_YI"
      },
      "execution_count": null,
      "outputs": []
    },
    {
      "cell_type": "markdown",
      "source": [
        "## Loops"
      ],
      "metadata": {
        "id": "1pUwGeIhXLnq"
      }
    },
    {
      "cell_type": "markdown",
      "source": [
        "### while"
      ],
      "metadata": {
        "id": "ocd-89n3XdNs"
      }
    },
    {
      "cell_type": "code",
      "source": [
        "# while\n",
        "num = int(input(\"Insert a num: \"))\n",
        "while num % 10 != 0:\n",
        "  num = int(input(\"The number you entered is not dividable by 10, try again: \"))\n",
        "print(\"Great! Bye!\")"
      ],
      "metadata": {
        "id": "KeNshCHkMelp"
      },
      "execution_count": null,
      "outputs": []
    },
    {
      "cell_type": "code",
      "source": [
        "# break, continue\n",
        "while True:\n",
        "  num = int(input(\"Insert a num: \"))\n",
        "  if num % 10 == 0:\n",
        "    print(\"Great\")\n",
        "    break"
      ],
      "metadata": {
        "id": "KzMK5-2EMmaG"
      },
      "execution_count": null,
      "outputs": []
    },
    {
      "cell_type": "markdown",
      "source": [
        "### for"
      ],
      "metadata": {
        "id": "XdSoM-CDXrAM"
      }
    },
    {
      "cell_type": "code",
      "source": [
        "for elem in my_list:\n",
        "  print(elem)"
      ],
      "metadata": {
        "id": "y0setNVLytuT"
      },
      "execution_count": null,
      "outputs": []
    },
    {
      "cell_type": "code",
      "source": [
        "for i in range(10):\n",
        "  print(i)"
      ],
      "metadata": {
        "id": "P_VQc3Pmy2ZB"
      },
      "execution_count": null,
      "outputs": []
    },
    {
      "cell_type": "code",
      "source": [
        "for i in range(1,11):\n",
        "  for j in range(1,11):\n",
        "    print(f\"{i}*{j}={i*j}\")"
      ],
      "metadata": {
        "id": "-yLtvUeMzcaY"
      },
      "execution_count": null,
      "outputs": []
    },
    {
      "cell_type": "markdown",
      "source": [
        "### break / continue / pass"
      ],
      "metadata": {
        "id": "__XOf488XvRK"
      }
    },
    {
      "cell_type": "code",
      "source": [
        "# pass\n",
        "if num > 3:\n",
        "  pass\n"
      ],
      "metadata": {
        "id": "MyAYvlRrMqZB"
      },
      "execution_count": null,
      "outputs": []
    },
    {
      "cell_type": "code",
      "source": [
        "while True:\n",
        "  num = int(input(\"Insert a num: \"))\n",
        "  if num % 10 != 0:\n",
        "    continue\n",
        "  else:\n",
        "    print(\"Great\")\n",
        "    break"
      ],
      "metadata": {
        "id": "XfbqpzJW1UM-"
      },
      "execution_count": null,
      "outputs": []
    },
    {
      "cell_type": "markdown",
      "source": [
        "### More on iterables"
      ],
      "metadata": {
        "id": "dbOdiglsX2bL"
      }
    },
    {
      "cell_type": "code",
      "source": [
        "# iterating over dictionary"
      ],
      "metadata": {
        "id": "7NDvbdteMvXd"
      },
      "execution_count": null,
      "outputs": []
    },
    {
      "cell_type": "code",
      "source": [
        "# iterating with enumerate\n",
        "for elem in enumerate(my_list):\n",
        "  # print(elem)\n",
        "  print(f\"Elem at index {elem[0]} is {elem[1]}\")"
      ],
      "metadata": {
        "id": "NeDkDF3sz9M5"
      },
      "execution_count": null,
      "outputs": []
    },
    {
      "cell_type": "code",
      "source": [
        "# iterating with enumerate\n",
        "for i, elem in enumerate(my_list):\n",
        "  # print(elem)\n",
        "  print(f\"Elem at index {i} is {elem}\")"
      ],
      "metadata": {
        "id": "Rw8frtcT2z9t"
      },
      "execution_count": null,
      "outputs": []
    },
    {
      "cell_type": "markdown",
      "source": [
        "## Other collections"
      ],
      "metadata": {
        "id": "vOQ9VKRtRF3O"
      }
    },
    {
      "cell_type": "markdown",
      "source": [
        "### Set / frozenset"
      ],
      "metadata": {
        "id": "252UIgKCRY8a"
      }
    },
    {
      "cell_type": "code",
      "source": [
        "# set\n",
        "weekdays = {'Sun', 'Mon', 'Tue', 'Wed', 'Thu', 'Fri', 'Sat'}\n",
        "print(weekdays)"
      ],
      "metadata": {
        "id": "Ma_SAwS63LUi"
      },
      "execution_count": null,
      "outputs": []
    },
    {
      "cell_type": "code",
      "source": [
        "weekdays.add('Wed')"
      ],
      "metadata": {
        "id": "89BVT1VU3nUo"
      },
      "execution_count": null,
      "outputs": []
    },
    {
      "cell_type": "code",
      "source": [
        "print(weekdays)"
      ],
      "metadata": {
        "id": "_unQCqoY34gm"
      },
      "execution_count": null,
      "outputs": []
    },
    {
      "cell_type": "code",
      "source": [
        "lecture_days = {\"Sun\", \"Wed\"}"
      ],
      "metadata": {
        "id": "zJ2o1ANM4ax5"
      },
      "execution_count": null,
      "outputs": []
    },
    {
      "cell_type": "code",
      "source": [
        "sport_day = {\"Mon\", \"Wed\", \"Fri\"}"
      ],
      "metadata": {
        "id": "Kf3Jo9Rq4kNi"
      },
      "execution_count": null,
      "outputs": []
    },
    {
      "cell_type": "code",
      "source": [
        "lecture_days.intersection(sport_day)"
      ],
      "metadata": {
        "id": "Ub8pJd6B4rGB"
      },
      "execution_count": null,
      "outputs": []
    },
    {
      "cell_type": "code",
      "source": [
        "busy_days = lecture_days.union(sport_day)"
      ],
      "metadata": {
        "id": "WB17PHxX48e4"
      },
      "execution_count": null,
      "outputs": []
    },
    {
      "cell_type": "code",
      "source": [
        "print(busy_days)"
      ],
      "metadata": {
        "id": "1O1dGkuT5MJk"
      },
      "execution_count": null,
      "outputs": []
    },
    {
      "cell_type": "code",
      "source": [
        "weekdays.difference(busy_days)"
      ],
      "metadata": {
        "id": "5i85P7Fx5Wir"
      },
      "execution_count": null,
      "outputs": []
    },
    {
      "cell_type": "code",
      "source": [
        "l1 = [2,3,4,3,2,5,6,7]"
      ],
      "metadata": {
        "id": "J2zi3bBPI3an"
      },
      "execution_count": null,
      "outputs": []
    },
    {
      "cell_type": "code",
      "source": [
        "s1 = set(l1)\n",
        "print(s1)"
      ],
      "metadata": {
        "id": "Lf2Mq3B8I--1"
      },
      "execution_count": null,
      "outputs": []
    },
    {
      "cell_type": "code",
      "source": [
        "ll1 = list(s1)"
      ],
      "metadata": {
        "id": "Bh_dTu-FJcw8"
      },
      "execution_count": null,
      "outputs": []
    },
    {
      "cell_type": "code",
      "source": [
        "print(ll1)"
      ],
      "metadata": {
        "id": "JEk9OS6jJln2"
      },
      "execution_count": null,
      "outputs": []
    },
    {
      "cell_type": "code",
      "source": [
        "frozen = frozenset([3,4,5,3])"
      ],
      "metadata": {
        "id": "XbllA21AJuJI"
      },
      "execution_count": null,
      "outputs": []
    },
    {
      "cell_type": "markdown",
      "source": [
        "### Dictionary"
      ],
      "metadata": {
        "id": "zdsGPnp8Lv6g"
      }
    },
    {
      "cell_type": "code",
      "source": [
        "d1 = {\n",
        "    'January': 1,\n",
        "    \"Februaru\": 2,\n",
        "    'March': 3\n",
        "  }"
      ],
      "metadata": {
        "id": "O6oN9frvIRqV"
      },
      "execution_count": null,
      "outputs": []
    },
    {
      "cell_type": "code",
      "source": [
        "d1['March']"
      ],
      "metadata": {
        "id": "1PIX0dhDKsHs"
      },
      "execution_count": null,
      "outputs": []
    },
    {
      "cell_type": "code",
      "source": [
        "d1 = {\n",
        "    'January': 1,\n",
        "    \"Februaru\": 2,\n",
        "    'March': 3,\n",
        "    'March': 4\n",
        "  }\n"
      ],
      "metadata": {
        "id": "oUrmHihgK7ZJ"
      },
      "execution_count": null,
      "outputs": []
    },
    {
      "cell_type": "code",
      "source": [
        "d1"
      ],
      "metadata": {
        "id": "MrvIMRlfLX9r"
      },
      "execution_count": null,
      "outputs": []
    },
    {
      "cell_type": "code",
      "source": [
        "grades = {\n",
        "    'Valeria Aynbinder': [70,89,99,80],\n",
        "    'Lital Kopperberg': [90, 78],\n",
        "    'Moshe Cohen': []\n",
        "}"
      ],
      "metadata": {
        "id": "I9umFN53LeR0"
      },
      "execution_count": null,
      "outputs": []
    },
    {
      "cell_type": "code",
      "source": [
        "grades['Lital Kopperberg']"
      ],
      "metadata": {
        "id": "z1DZNT0qMAeH"
      },
      "execution_count": null,
      "outputs": []
    },
    {
      "cell_type": "code",
      "source": [
        "grades = {\n",
        "    'Valeria Aynbinder': \n",
        "        {'Python': [70,89,99,80],\n",
        "         'DataScience': [88, 90]\n",
        "        },\n",
        "    'Lital Kopperberg': \n",
        "      {\n",
        "          'Math': [90, 78],\n",
        "          'History': [99, 89]\n",
        "      },\n",
        "    'Moshe Cohen': {\n",
        "        'Python': [90, 67]\n",
        "    }\n",
        "}"
      ],
      "metadata": {
        "id": "RVgpKCV9MG1J"
      },
      "execution_count": null,
      "outputs": []
    },
    {
      "cell_type": "code",
      "source": [
        "grades['Valeria Aynbinder']['DataScience']"
      ],
      "metadata": {
        "id": "ZQfNjM-eM1vK"
      },
      "execution_count": null,
      "outputs": []
    },
    {
      "cell_type": "code",
      "source": [
        "print(grades.get('David'))"
      ],
      "metadata": {
        "id": "HEEWc6KfNuH5"
      },
      "execution_count": null,
      "outputs": []
    },
    {
      "cell_type": "code",
      "source": [
        "var = None # null\n",
        "list_with_none = [6,7,None, 5,None]"
      ],
      "metadata": {
        "id": "aZl6WQvJOCgz"
      },
      "execution_count": null,
      "outputs": []
    },
    {
      "cell_type": "code",
      "source": [
        "grades.get('David', {})"
      ],
      "metadata": {
        "id": "uSojatrUOUO-"
      },
      "execution_count": null,
      "outputs": []
    },
    {
      "cell_type": "code",
      "source": [
        "student_name = input(\"insert a name:\")\n",
        "print(grades.get(student_name, {}).get('Python', []))"
      ],
      "metadata": {
        "id": "edp8_hTLOsob"
      },
      "execution_count": null,
      "outputs": []
    },
    {
      "cell_type": "code",
      "source": [
        "person1 = ['VAleria', 'Aynbinder', 'Netanya', 35, '054555555']\n",
        "person2 = ['Moshe', 'Cohen', 'Tel Aviv', 320, '055555555']\n",
        "\n",
        "person1[3]"
      ],
      "metadata": {
        "id": "3WxLnzf7QBkP"
      },
      "execution_count": null,
      "outputs": []
    },
    {
      "cell_type": "code",
      "source": [
        "person1 = {\n",
        "    \"first_name\": \"Valeria\",\n",
        "    \"last_name\": \"Aynbinder\",\n",
        "    \"city\": \"Netanya\",\n",
        "    \"age\": 35,\n",
        "    \"phone\": \"054555\"\n",
        "}\n",
        "\n",
        "person2 = {\n",
        "    \"first_name\": \"Moshe\",\n",
        "    \"last_name\": \"Cohen\",\n",
        "    \"city\": \"Tel Aviv\",\n",
        "    \"age\": 20,\n",
        "    \"phone\": \"054555\"\n",
        "}"
      ],
      "metadata": {
        "id": "ycAyoIHIQeeW"
      },
      "execution_count": null,
      "outputs": []
    },
    {
      "cell_type": "code",
      "source": [
        "person1['age']"
      ],
      "metadata": {
        "id": "v75MlpVKQtk9"
      },
      "execution_count": null,
      "outputs": []
    },
    {
      "cell_type": "code",
      "source": [
        "persons = [person1, person2]"
      ],
      "metadata": {
        "id": "UrySMK_1Q70t"
      },
      "execution_count": null,
      "outputs": []
    },
    {
      "cell_type": "code",
      "source": [
        "persons[1]"
      ],
      "metadata": {
        "id": "SDo9glamQ_Xy"
      },
      "execution_count": null,
      "outputs": []
    },
    {
      "cell_type": "code",
      "source": [
        "ages = []\n",
        "for p in persons:\n",
        "  ages.append(p['age'])\n",
        "print(f\"ages: {ages}\")\n",
        "print(f\"avg: {sum(ages)/len(ages)}\")"
      ],
      "metadata": {
        "id": "HtBEGR-dRKlP"
      },
      "execution_count": null,
      "outputs": []
    },
    {
      "cell_type": "code",
      "source": [
        "ages = []\n",
        "ages.insert(2, \"rtrt\")\n",
        "print(ages)"
      ],
      "metadata": {
        "id": "RYUxCrXYSRmB"
      },
      "execution_count": null,
      "outputs": []
    },
    {
      "cell_type": "code",
      "source": [
        "stock_prices = {\n",
        "    'APPL': 700,\n",
        "    'IBM': 68,\n",
        "    'TSLA': 400\n",
        "}"
      ],
      "metadata": {
        "id": "6gBpihQQSlEq"
      },
      "execution_count": null,
      "outputs": []
    },
    {
      "cell_type": "code",
      "source": [
        "for elem in stock_prices:\n",
        "  print(elem)"
      ],
      "metadata": {
        "id": "oukpMzXlS2zh"
      },
      "execution_count": null,
      "outputs": []
    },
    {
      "cell_type": "code",
      "source": [
        "stock_prices.keys()"
      ],
      "metadata": {
        "id": "qhG-SNqPTD83"
      },
      "execution_count": null,
      "outputs": []
    },
    {
      "cell_type": "code",
      "source": [
        "stock_prices.values()"
      ],
      "metadata": {
        "id": "w4HQSde2TK0V"
      },
      "execution_count": null,
      "outputs": []
    },
    {
      "cell_type": "code",
      "source": [
        "for elem in stock_prices.items():\n",
        "  print(elem)"
      ],
      "metadata": {
        "id": "80IKkH-oTUad"
      },
      "execution_count": null,
      "outputs": []
    },
    {
      "cell_type": "code",
      "source": [
        "for stock_name, stock_price in stock_prices.items():\n",
        "  print(f\"name: {stock_name}, price: {stock_price}\")"
      ],
      "metadata": {
        "id": "DpJq-SyNTfES"
      },
      "execution_count": null,
      "outputs": []
    },
    {
      "cell_type": "markdown",
      "source": [
        "## Functions"
      ],
      "metadata": {
        "id": "xPUeFHPHM8Au"
      }
    },
    {
      "cell_type": "code",
      "source": [
        "# basics\n",
        "def print_greeting():\n",
        "  print(\"Hello\")"
      ],
      "metadata": {
        "id": "o_3uOt1ONBiH"
      },
      "execution_count": null,
      "outputs": []
    },
    {
      "cell_type": "code",
      "source": [
        "print(print_greeting)"
      ],
      "metadata": {
        "id": "X7r4qHhlUL9T"
      },
      "execution_count": null,
      "outputs": []
    },
    {
      "cell_type": "code",
      "source": [
        "print_greeting()"
      ],
      "metadata": {
        "id": "xR-ofDiFUYCr"
      },
      "execution_count": null,
      "outputs": []
    },
    {
      "cell_type": "code",
      "source": [
        "def print_greeting(name):\n",
        "  print(f\"Hello {name}\")"
      ],
      "metadata": {
        "id": "_EwkRiu4Ue74"
      },
      "execution_count": null,
      "outputs": []
    },
    {
      "cell_type": "code",
      "source": [
        "print_greeting('Valeria')"
      ],
      "metadata": {
        "id": "h_BWKeoWUkyK"
      },
      "execution_count": null,
      "outputs": []
    },
    {
      "cell_type": "code",
      "source": [
        "print_greeting(-56.7)"
      ],
      "metadata": {
        "id": "YVECn3U5Uwyc"
      },
      "execution_count": null,
      "outputs": []
    },
    {
      "cell_type": "code",
      "source": [
        "def print_greeting(name):\n",
        "  print(f\"Hello {name}\")\n",
        "  return len(name)"
      ],
      "metadata": {
        "id": "k0pKbXRUU4TZ"
      },
      "execution_count": null,
      "outputs": []
    },
    {
      "cell_type": "code",
      "source": [
        "name_len = print_greeting('Moshe')"
      ],
      "metadata": {
        "id": "9xRqhwrnVBX-"
      },
      "execution_count": null,
      "outputs": []
    },
    {
      "cell_type": "code",
      "source": [
        "name_len"
      ],
      "metadata": {
        "id": "9QTikIrMVIgU"
      },
      "execution_count": null,
      "outputs": []
    },
    {
      "cell_type": "code",
      "source": [
        "def print_greeting(name):\n",
        "  print(f\"Hello {name}\")\n",
        "  return len(name), name.upper(), name.lower()"
      ],
      "metadata": {
        "id": "T6M9DJCkVMPV"
      },
      "execution_count": null,
      "outputs": []
    },
    {
      "cell_type": "code",
      "source": [
        "ret_val = print_greeting('Moshe')\n",
        "\n",
        "print(ret_val)"
      ],
      "metadata": {
        "id": "jj3sEstmVesx"
      },
      "execution_count": null,
      "outputs": []
    },
    {
      "cell_type": "code",
      "source": [
        "char_num, upper, lower = print_greeting('Moshe')\n",
        "print(upper)"
      ],
      "metadata": {
        "id": "xPQMoNQ1VtmE"
      },
      "execution_count": null,
      "outputs": []
    },
    {
      "cell_type": "markdown",
      "source": [
        "### Scoping\n",
        "\n",
        "*inner variables / arguments scope*"
      ],
      "metadata": {
        "id": "kzOMQ24KSDHl"
      }
    },
    {
      "cell_type": "markdown",
      "source": [
        "#### Diagram"
      ],
      "metadata": {
        "id": "yVgJ2aM_SPU9"
      }
    },
    {
      "cell_type": "markdown",
      "source": [
        "![image.png](data:image/png;base64,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)"
      ],
      "metadata": {
        "id": "R2m-D3rT_XVj"
      }
    },
    {
      "cell_type": "markdown",
      "source": [
        "#### Code"
      ],
      "metadata": {
        "id": "NNH1naWdSR4O"
      }
    },
    {
      "cell_type": "code",
      "source": [
        "num = 10\n",
        "print(f\"outside function: num={num}\")\n",
        "\n",
        "name = 'Valeria'\n",
        "\n",
        "def foo(name):\n",
        "  # num = 20\n",
        "  # print(f\"inside function: num={num}\")\n",
        "  print(f\"inside: {name}\")\n",
        "\n",
        "foo('Moshe')\n",
        "# print(f\"After exec: {num}\")\n",
        "print(f\"after: {name}\")"
      ],
      "metadata": {
        "id": "FxGVRmxC74Nn"
      },
      "execution_count": null,
      "outputs": []
    },
    {
      "cell_type": "code",
      "source": [
        "# global\n",
        "\n",
        "name = 'Valeria'\n",
        "\n",
        "def foo():\n",
        "  # global name\n",
        "  # name = 'Moshe'\n",
        "  # print(f\"inside function: num={num}\")\n",
        "  print(f\"inside: {name}\")\n",
        "\n",
        "\n",
        "foo()\n",
        "print(f\"after: {name}\")"
      ],
      "metadata": {
        "id": "sWpCkW7y-h8f"
      },
      "execution_count": null,
      "outputs": []
    },
    {
      "cell_type": "markdown",
      "metadata": {
        "id": "jBorZlqXQ8j4"
      },
      "source": [
        "### Positional (required) vs Keyword (optional/default) arguments\n",
        "\n",
        "Positional first - then keyword"
      ]
    },
    {
      "cell_type": "code",
      "metadata": {
        "id": "Y1J4VUg4Q_uT"
      },
      "source": [
        "# 2*x + 3*y + c\n",
        "def calculate(x, y, c=0, d=\"\", e=False):\n",
        "  print(f\"x:{x}, y:{y}, c:{c}\")\n",
        "  print(f\"d:{d}, e:{e}\")\n",
        "  return 2 *x + 3* y + c"
      ],
      "execution_count": null,
      "outputs": []
    },
    {
      "cell_type": "code",
      "source": [
        "calculate(3, 4)"
      ],
      "metadata": {
        "id": "wk_Lo1tOZC2Z"
      },
      "execution_count": null,
      "outputs": []
    },
    {
      "cell_type": "code",
      "source": [
        "calculate(3, 4, 10)"
      ],
      "metadata": {
        "id": "9F-9sG9PZQGA"
      },
      "execution_count": null,
      "outputs": []
    },
    {
      "cell_type": "code",
      "source": [
        "calculate(3, 4, c=10)"
      ],
      "metadata": {
        "id": "YKP7ilwoZXj9"
      },
      "execution_count": null,
      "outputs": []
    },
    {
      "cell_type": "code",
      "source": [
        "calculate(x=3, y=4, c=10)"
      ],
      "metadata": {
        "id": "G9ZdHRlUZeY-"
      },
      "execution_count": null,
      "outputs": []
    },
    {
      "cell_type": "code",
      "source": [
        "calculate(c=10, x=3, y=4)"
      ],
      "metadata": {
        "id": "FUrg6cxBZkSf"
      },
      "execution_count": null,
      "outputs": []
    },
    {
      "cell_type": "markdown",
      "metadata": {
        "id": "e0A0Bpe8PO-Y"
      },
      "source": [
        "### \\*argv and **kwargs\n",
        "*argv (optional positional arguments)\n",
        "\n",
        "**kwargs (optional keyword arguments)"
      ]
    },
    {
      "cell_type": "code",
      "metadata": {
        "id": "n7NOLAoNPPSB"
      },
      "source": [
        "def foo_a(*argv):\n",
        "\tprint(f\"type of argv: {type(argv)}, len: {len(argv)}\")\n",
        "\tprint(\"type of argv: {type(argv)}, len: {len(argv)}\")\n",
        "\tprint(\"type of argv: \" + str(type(argv)) + \", len: \" + str(len(argv)))\n",
        "\tfor arg in argv:\n",
        "\t\tprint (arg)\n"
      ],
      "execution_count": null,
      "outputs": []
    },
    {
      "cell_type": "code",
      "source": [
        "foo_a()"
      ],
      "metadata": {
        "id": "onWjEGaUavsK"
      },
      "execution_count": null,
      "outputs": []
    },
    {
      "cell_type": "code",
      "source": [
        "foo_a(4,5,6,'Valeria', True)"
      ],
      "metadata": {
        "id": "EzDvYGEWbEnP"
      },
      "execution_count": null,
      "outputs": []
    },
    {
      "cell_type": "code",
      "source": [
        "max(13, 5,89,4)"
      ],
      "metadata": {
        "id": "03lbNNItbO8m"
      },
      "execution_count": null,
      "outputs": []
    },
    {
      "cell_type": "code",
      "source": [
        "def foo_b(required_arg, *argv):\n",
        "\tprint (\"First argument :\", required_arg)\n",
        "\tfor arg in argv:\n",
        "\t\tprint(\"Next argument through *argv :\", arg)"
      ],
      "metadata": {
        "id": "3GEbIYbZB_oK"
      },
      "execution_count": null,
      "outputs": []
    },
    {
      "cell_type": "code",
      "source": [
        "foo_b(56)"
      ],
      "metadata": {
        "id": "iPyl7WCRbhqX"
      },
      "execution_count": null,
      "outputs": []
    },
    {
      "cell_type": "code",
      "source": [
        "foo_b(56, 'Valeria', 'Moshe')"
      ],
      "metadata": {
        "id": "-HiNzpTkbpSO"
      },
      "execution_count": null,
      "outputs": []
    },
    {
      "cell_type": "code",
      "source": [
        "def foo_c(**kwargs):\n",
        "  print(f\"type of kwargs: {type(kwargs)} len: {len(kwargs)}, kwargs: {kwargs}\")"
      ],
      "metadata": {
        "id": "fsBD98EaCVyf"
      },
      "execution_count": null,
      "outputs": []
    },
    {
      "cell_type": "code",
      "source": [
        "def foo_d(*args, **kwargs):\n",
        "  print(f\"args num: {len(args)}, args: {args}\")\n",
        "  print(f\"kwargs num: {len(kwargs)}, kwargs: {kwargs}\")"
      ],
      "metadata": {
        "id": "Y8AuKVquCtYv"
      },
      "execution_count": null,
      "outputs": []
    },
    {
      "cell_type": "code",
      "source": [
        "foo_d(1,2,name='Valeria',age=35)"
      ],
      "metadata": {
        "id": "wsKy3oX-b_ew"
      },
      "execution_count": null,
      "outputs": []
    },
    {
      "cell_type": "code",
      "source": [
        "def foo_e(required_arg, *args, required_kw_arg='Initial value', **kwargs):\n",
        "  print(f\"required_arg: {required_arg}\")\n",
        "  print(f\"args num: {len(args)}, args: {args}\")\n",
        "  print(f\"required_kw_arg: {required_kw_arg}\")\n",
        "  print(f\"kwargs num: {len(kwargs)}, kwargs: {kwargs}\")"
      ],
      "metadata": {
        "id": "TLkR_4iCC97r"
      },
      "execution_count": null,
      "outputs": []
    },
    {
      "cell_type": "code",
      "source": [
        "print()"
      ],
      "metadata": {
        "id": "ij_SI11G5HY8"
      },
      "execution_count": null,
      "outputs": []
    },
    {
      "cell_type": "markdown",
      "source": [
        "## Python typing\n",
        "\n",
        "`Note The Python runtime does not enforce function and variable type annotations. They can be used by third party tools such as type checkers, IDEs, linters, etc.`"
      ],
      "metadata": {
        "id": "9GQbXGi9EDic"
      }
    },
    {
      "cell_type": "code",
      "source": [
        "def my_foo(id: int, name: str, grades: list) -> dict:\n",
        "  pass"
      ],
      "metadata": {
        "id": "03s0viTGEQTR"
      },
      "execution_count": null,
      "outputs": []
    },
    {
      "cell_type": "code",
      "source": [
        "my_foo(5, 'Valeria', 'String')"
      ],
      "metadata": {
        "id": "KWUyaK5jiHDJ"
      },
      "execution_count": null,
      "outputs": []
    },
    {
      "cell_type": "markdown",
      "source": [
        "## Exercise"
      ],
      "metadata": {
        "id": "EPCkHlUuS7kr"
      }
    },
    {
      "cell_type": "code",
      "source": [
        "# leap year\n",
        "\n",
        "def is_leap_year(year: int) -> bool:\n",
        "  not_leap = (year % 4 != 0) or (year % 100 == 0 and year % 400 != 0)\n",
        "  return not not_leap"
      ],
      "metadata": {
        "id": "h4ry2N2_kTLW"
      },
      "execution_count": null,
      "outputs": []
    },
    {
      "cell_type": "code",
      "source": [
        "# exp1 or exp2"
      ],
      "metadata": {
        "id": "bCCMFxFQscQY"
      },
      "execution_count": null,
      "outputs": []
    },
    {
      "cell_type": "code",
      "source": [
        "def is_correct_input(user_input: str) -> bool:\n",
        "  return user_input.isdigit()"
      ],
      "metadata": {
        "id": "c6Ejo6RhlWZY"
      },
      "execution_count": null,
      "outputs": []
    },
    {
      "cell_type": "code",
      "source": [
        "\"56.6\".isdigit()"
      ],
      "metadata": {
        "id": "boWpQjKmsxUV"
      },
      "execution_count": null,
      "outputs": []
    },
    {
      "cell_type": "code",
      "source": [
        "year = input('Insert a year:')\n",
        "\n",
        "while not is_correct_input(year):\n",
        "  year = input(\"You inserted invalid year, try again:\")\n",
        "\n",
        "# is_leap_str = None\n",
        "# if is_leap_year(int(year)):\n",
        "#   is_leap_str = \"\"\n",
        "# else:\n",
        "#   is_leap_str = \"not\"\n",
        "\n",
        "\n",
        "is_leap_str = \"\" if is_leap_year(int(year)) else \"not\"\n",
        "\n",
        "\n",
        "print(f\"The year {year} is {is_leap_str} leap year\")"
      ],
      "metadata": {
        "id": "rXpsbnQ_llYF"
      },
      "execution_count": null,
      "outputs": []
    },
    {
      "cell_type": "markdown",
      "source": [
        "## zip"
      ],
      "metadata": {
        "id": "gOcPPw9BoPEA"
      }
    },
    {
      "cell_type": "code",
      "source": [
        "cities = ['Tel Aviv', 'Paris', 'London', 'Geneva']\n",
        "weather = [25, 10, 12, 8]\n",
        "\n",
        "for i in range(len(cities)):\n",
        "  print(f\"{cities[i]}: {weather[i]}\")\n"
      ],
      "metadata": {
        "id": "3-GVAQEioRje"
      },
      "execution_count": null,
      "outputs": []
    },
    {
      "cell_type": "code",
      "source": [
        "for i in zip(cities, weather):\n",
        "  print(i)"
      ],
      "metadata": {
        "id": "gYjjpoImvOWg"
      },
      "execution_count": null,
      "outputs": []
    },
    {
      "cell_type": "code",
      "source": [
        "countries = [\"Israel\", 'France', 'GB']"
      ],
      "metadata": {
        "id": "HtnI1CGSvuQX"
      },
      "execution_count": null,
      "outputs": []
    },
    {
      "cell_type": "code",
      "source": [
        "for country, city, temp in zip(countries, cities, weather):\n",
        "  print(f\"{country} - {city}: {temp}\")"
      ],
      "metadata": {
        "id": "ifNLW_MlvcLY"
      },
      "execution_count": null,
      "outputs": []
    },
    {
      "cell_type": "markdown",
      "source": [
        "## Mutability"
      ],
      "metadata": {
        "id": "6kSlhd--9bzR"
      }
    },
    {
      "cell_type": "code",
      "source": [],
      "metadata": {
        "id": "YFmpzReI9hvc"
      },
      "execution_count": null,
      "outputs": []
    }
  ]
}